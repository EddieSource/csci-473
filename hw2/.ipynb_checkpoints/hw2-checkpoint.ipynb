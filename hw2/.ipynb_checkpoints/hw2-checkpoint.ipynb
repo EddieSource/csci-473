{
 "cells": [
  {
   "cell_type": "code",
   "execution_count": 12,
   "id": "7173ab3a-8349-45f2-aa9e-e489aa67626f",
   "metadata": {},
   "outputs": [],
   "source": [
    "import numpy as np\n",
    "import matplotlib.pyplot as plt\n",
    "from sklearn.linear_model import LinearRegression,  Ridge, Lasso, LogisticRegression\n",
    "from sklearn import metrics\n",
    "import pandas as pd\n",
    "import autograd.numpy as np\n",
    "from autograd import grad\n",
    "from sklearn import model_selection"
   ]
  },
  {
   "cell_type": "code",
   "execution_count": 13,
   "id": "7ccdd44e-cda4-48d5-afd4-1ffc7a4e63e3",
   "metadata": {},
   "outputs": [
    {
     "name": "stdout",
     "output_type": "stream",
     "text": [
      "['company', 'title', 'location', 'totalyearlycompensation', 'basesalary', 'stockgrantvalue', 'bonus', 'yearsofexperience', 'yearsatcompany', 'gender', 'Masters_Degree', 'Bachelors_Degree', 'Doctorate_Degree', 'Highschool', 'Some_College', 'Race_Asian', 'Race_White', 'Race_Two_Or_More', 'Race_Black', 'Race_Hispanic', 'Race', 'Education', 'Age', 'Height', 'Zodiac', 'SAT', 'GPA']\n"
     ]
    }
   ],
   "source": [
    "# read csv\n",
    "df = pd.read_csv(\"techSalaries2017.csv\")\n",
    "print(df.columns.tolist())"
   ]
  },
  {
   "cell_type": "code",
   "execution_count": 14,
   "id": "fec6b06c-ab14-4842-804a-b02d539b2f79",
   "metadata": {},
   "outputs": [
    {
     "name": "stdout",
     "output_type": "stream",
     "text": [
      "totalyearlycompensation\n"
     ]
    }
   ],
   "source": [
    "# ensure the 3rd column is the predictor variable\n",
    "print(df.iloc[:, 3].name)"
   ]
  },
  {
   "cell_type": "code",
   "execution_count": 15,
   "id": "00c0c643-98d9-4186-99be-48e3057fb035",
   "metadata": {},
   "outputs": [
    {
     "name": "stdout",
     "output_type": "stream",
     "text": [
      "False\n",
      "False\n"
     ]
    }
   ],
   "source": [
    "# check whether we need to consider the case whether our predictor is null for single regression\n",
    "print(df[\"totalyearlycompensation\"].isnull().any())\n",
    "print(0 in df[\"totalyearlycompensation\"].values)\n"
   ]
  },
  {
   "cell_type": "code",
   "execution_count": 16,
   "id": "a5a38cd3-54d1-48e2-ac91-5bee02e7502d",
   "metadata": {},
   "outputs": [
    {
     "name": "stdout",
     "output_type": "stream",
     "text": [
      "(62642, 27)\n",
      "gender\n",
      "Female                              6999\n",
      "Male                               35702\n",
      "Other                                400\n",
      "Title: Senior Software Engineer        1\n",
      "Name: totalyearlycompensation, dtype: int64\n"
     ]
    }
   ],
   "source": [
    "# compare number of other genders with total records to decide whether to wipe them out\n",
    "print(df.shape)\n",
    "print(df.groupby('gender').totalyearlycompensation.count())"
   ]
  },
  {
   "cell_type": "code",
   "execution_count": 17,
   "id": "e1714752-53af-4cc6-b8ce-e1e98140c2fe",
   "metadata": {},
   "outputs": [
    {
     "name": "stdout",
     "output_type": "stream",
     "text": [
      "0        NaN\n",
      "1        NaN\n",
      "2        NaN\n",
      "3        NaN\n",
      "4        NaN\n",
      "        ... \n",
      "62637    NaN\n",
      "62638    NaN\n",
      "62639    NaN\n",
      "62640    NaN\n",
      "62641    0.0\n",
      "Name: gender, Length: 62642, dtype: float64\n",
      "[nan  0.  1.]\n"
     ]
    }
   ],
   "source": [
    "# encode gender variable\n",
    "def encodeGender(x): \n",
    "    if(x == 'Male'):  return 0\n",
    "    elif(x == 'Female'): return 1\n",
    "df['gender'] = df['gender'].apply(lambda x: encodeGender(x))\n",
    "print(df['gender'])\n",
    "print(df['gender'].unique())"
   ]
  },
  {
   "cell_type": "code",
   "execution_count": 18,
   "id": "8e1f073e-0f3e-4d2b-a3c9-ed08bf8b78b6",
   "metadata": {},
   "outputs": [
    {
     "data": {
      "text/plain": [
       "188000.0"
      ]
     },
     "execution_count": 18,
     "metadata": {},
     "output_type": "execute_result"
    }
   ],
   "source": [
    "# compute the median of the compensation\n",
    "df['totalyearlycompensation'].median()"
   ]
  },
  {
   "cell_type": "code",
   "execution_count": 19,
   "id": "28a1e935-847b-4a47-b8b4-37f21a8e4ec6",
   "metadata": {},
   "outputs": [
    {
     "name": "stdout",
     "output_type": "stream",
     "text": [
      "0        0\n",
      "1        0\n",
      "2        1\n",
      "3        1\n",
      "4        0\n",
      "        ..\n",
      "62637    1\n",
      "62638    1\n",
      "62639    1\n",
      "62640    1\n",
      "62641    1\n",
      "Name: high, Length: 62642, dtype: int64\n"
     ]
    }
   ],
   "source": [
    "# create the new high outcome variable\n",
    "def ifHigh(x): \n",
    "    if(x >= 188000): return 1\n",
    "    elif(x < 188000): return 0\n",
    "df['high'] = df['totalyearlycompensation'].apply(lambda x: ifHigh(x))\n",
    "print(df['high'])"
   ]
  },
  {
   "cell_type": "markdown",
   "id": "78908de4-0b45-49dc-8177-58dfd07ffb26",
   "metadata": {},
   "source": [
    "## Question1"
   ]
  },
  {
   "cell_type": "code",
   "execution_count": 20,
   "id": "37e4ffec-2015-4f70-a48a-6525edcbd036",
   "metadata": {},
   "outputs": [
    {
     "name": "stdout",
     "output_type": "stream",
     "text": [
      "best predictor:  yearsofexperience ; r^2:  0.1788267653287875\n"
     ]
    }
   ],
   "source": [
    "# run linear regression on each predictor\n",
    "globalMax_name = \"\"\n",
    "globalMax_r2 = -1\n",
    "\n",
    "    \n",
    "for i in range(7, 27): \n",
    "    # ignore race category or education category\n",
    "    if i == 20 or i == 21: continue\n",
    "    \n",
    "    x, y = df.iloc[:,i], df.iloc[:,3]\n",
    "    \n",
    "    # drop nan row of y\n",
    "    y = y.drop(x[pd.isnull(x)].index)\n",
    "    # drop nan row of x\n",
    "    x = x.dropna()\n",
    "    \n",
    "    # if it is education, we drop the education na rows\n",
    "    if(i >= 10 and i <= 14): \n",
    "        y = y.drop(df[\"Education\"][pd.isnull(df[\"Education\"])].index)\n",
    "        x = x.drop(df[\"Education\"][pd.isnull(df[\"Education\"])].index)\n",
    "    \n",
    "    # else if it is race, we drop the race na rows\n",
    "    elif(i >= 15 and i <= 19): \n",
    "        y = y.drop(df[\"Race\"][pd.isnull(df[\"Race\"])].index)\n",
    "        x = x.drop(df[\"Race\"][pd.isnull(df[\"Race\"])].index)\n",
    "    \n",
    "\n",
    "\n",
    "    model = LinearRegression()\n",
    "    model.fit(x.values.reshape(-1,1), y.values)\n",
    "    r2 = metrics.r2_score(y.values, model.predict(x.values.reshape(-1,1)))\n",
    "    if(r2 > globalMax_r2): \n",
    "        globalMax_r2 = r2\n",
    "        globalMax_name = x.name\n",
    "    \n",
    "    # print(x.name, \"R^2 = \", r2)\n",
    "print(\"best predictor: \", globalMax_name, \"; r^2: \", globalMax_r2)\n"
   ]
  },
  {
   "cell_type": "markdown",
   "id": "32faa6f5-2ab1-4a8f-902a-92c493df71aa",
   "metadata": {},
   "source": [
    "## Before we fit OLS, Ridge, and Lasso, lets set up the train and test data for each model"
   ]
  },
  {
   "cell_type": "code",
   "execution_count": 21,
   "id": "803f9ea3-80f0-42ce-a7bb-b7d754dcb04d",
   "metadata": {},
   "outputs": [],
   "source": [
    "# run multiple regression\n",
    "z = df.dropna(axis=0)\n",
    "\n",
    "# leave out \"high school\" and \"race_two_or_more\" to prevent overdetermination\n",
    "x = z[['yearsofexperience', 'yearsatcompany', 'gender', \n",
    "       'Masters_Degree', 'Bachelors_Degree', 'Doctorate_Degree','Some_College', \n",
    "       'Race_Asian', 'Race_White', 'Race_Black', 'Race_Hispanic', \n",
    "       'Age', 'Height', 'Zodiac', 'SAT', 'GPA']]\n",
    "y = z[\"totalyearlycompensation\"]\n",
    "\n",
    "x_np = x.values\n",
    "y_np = y.values\n",
    "\n",
    "x_norm = (x_np - np.mean(x_np, axis=0))/np.std(x_np, axis=0)\n",
    "y_norm = (y_np - np.mean(y_np, axis=0))/np.std(y_np, axis=0)\n",
    "\n",
    "xTrain, xTest, yTrain, yTest = model_selection.train_test_split(x_norm, y_norm, test_size=0.2, random_state=0)"
   ]
  },
  {
   "cell_type": "code",
   "execution_count": 22,
   "id": "652f7cc2-da3c-47bc-8e93-37b86b6c0f24",
   "metadata": {},
   "outputs": [
    {
     "name": "stdout",
     "output_type": "stream",
     "text": [
      "total R^2 =  0.28443484759564897\n",
      "total MSE =  0.6209136619634104\n",
      "beta =  [ 0.38872095 -0.05539633 -0.00782092  0.12226189  0.03850138  0.15737497\n",
      "  0.00694138 -0.04628727 -0.03233076 -0.01570833 -0.0180951  -0.00375198\n",
      " -0.00647966  0.01203714  0.26074659  0.01767211]\n"
     ]
    }
   ],
   "source": [
    "model = LinearRegression()\n",
    "model.fit(xTrain, yTrain)\n",
    "print(\"total R^2 = \", metrics.r2_score(yTest, model.predict(xTest)))\n",
    "print(\"total MSE = \", metrics.mean_squared_error(yTest, model.predict(xTest)))\n",
    "print(\"beta = \", model.coef_)"
   ]
  },
  {
   "cell_type": "markdown",
   "id": "549a97fb-b879-447d-b059-40be08acc5c7",
   "metadata": {},
   "source": [
    "## Question 2"
   ]
  },
  {
   "cell_type": "code",
   "execution_count": 23,
   "id": "3df78410-84cd-47a0-889f-b88ae7ed9e22",
   "metadata": {},
   "outputs": [
    {
     "data": {
      "image/png": "[encoded data removed]",
      "text/plain": [
       "<Figure size 432x288 with 1 Axes>"
      ]
     },
     "metadata": {
      "needs_background": "light"
     },
     "output_type": "display_data"
    },
    {
     "name": "stdout",
     "output_type": "stream",
     "text": [
      "optimal_lambda:  9.46\n",
      "total MSE =  0.6198337164372303\n",
      "beta:  [ 0.38660262 -0.05752978 -0.01408504  0.12166705  0.03942418  0.15868238\n",
      "  0.00443147 -0.05257047 -0.03734839 -0.02090044 -0.0240739  -0.00279029\n",
      " -0.00550065  0.01263361  0.25681038  0.01652383]\n"
     ]
    }
   ],
   "source": [
    "# run ridge regression on full predictors, because running ridge on multiple does not make any sense\n",
    "\n",
    "# hyperparameter tuning\n",
    "# create a list for all lambdas we are evaluating\n",
    "lambdas = np.linspace(0,20,1001)\n",
    "cont = np.empty([len(lambdas),2])*np.NaN # [lambda error]\n",
    "\n",
    "# try each lambdas and find the best one with r^2\n",
    "for ii in range(len(lambdas)):\n",
    "    ridgeModel = Ridge(alpha=lambdas[ii]).fit(xTrain, yTrain)\n",
    "    cont[ii,0] = lambdas[ii]\n",
    "    mse = metrics.mean_squared_error(yTest,ridgeModel.predict(xTest))\n",
    "    cont[ii,1] = mse\n",
    "\n",
    "# find the optimal lambda\n",
    "plt.plot(cont[:,0],cont[:,1])\n",
    "plt.xlabel('Lambda')\n",
    "plt.ylabel('MSE')\n",
    "plt.title('Ridge regression', y=1.08)\n",
    "plt.show()\n",
    "optimal_lambda = lambdas[np.argmax(cont[:,1]==np.min(cont[:,1]))]\n",
    "print(\"optimal_lambda: \", optimal_lambda)\n",
    "\n",
    "# train model with the optimal lambda\n",
    "model = Ridge(alpha=optimal_lambda).fit(x_norm, y_norm)\n",
    "MSE = metrics.mean_squared_error(yTest,model.predict(xTest))\n",
    "print(\"total MSE = \", MSE)\n",
    "print(\"beta: \", model.coef_)"
   ]
  },
  {
   "cell_type": "markdown",
   "id": "f8fd2c1f-cc0a-47ab-9a09-3693b7349f89",
   "metadata": {},
   "source": [
    "## Question 3"
   ]
  },
  {
   "cell_type": "code",
   "execution_count": 24,
   "id": "bf556c5e-1f3f-43d3-9edf-d6fbe20b0525",
   "metadata": {},
   "outputs": [
    {
     "data": {
      "image/png": "[encoded data removed]",
      "text/plain": [
       "<Figure size 432x288 with 1 Axes>"
      ]
     },
     "metadata": {
      "needs_background": "light"
     },
     "output_type": "display_data"
    },
    {
     "name": "stdout",
     "output_type": "stream",
     "text": [
      "optimal_lambda:  0.01\n",
      "total MSE =  0.7364831656724227\n",
      "beta:  [ 0.36651721 -0.03535304 -0.00384126  0.06265668 -0.00770337  0.12844365\n",
      " -0.         -0.          0.         -0.         -0.          0.\n",
      " -0.          0.00253833  0.25414972  0.01171298]\n"
     ]
    }
   ],
   "source": [
    "# Lasso regression on full predictors\n",
    "\n",
    "# hyperparameter tuning: \n",
    "\n",
    "# create a list for all lambdas we are evaluating\n",
    "lambdas = np.linspace(0.01,1,1001)\n",
    "cont = np.empty([len(lambdas),2])*np.NaN # [lambda error]\n",
    "\n",
    "# try each lambdas and find the best one with mse\n",
    "for ii in range(len(lambdas)):\n",
    "    lassoModel = Lasso(alpha=lambdas[ii]).fit(xTrain, yTrain)\n",
    "    cont[ii,0] = lambdas[ii]\n",
    "    mse = metrics.mean_squared_error(yTest,lassoModel.predict(xTest))\n",
    "    cont[ii,1] = mse\n",
    "\n",
    "# find the optimallambda\n",
    "plt.plot(cont[:,0],cont[:,1])\n",
    "plt.xlabel('Lambda')\n",
    "plt.ylabel('MSE')\n",
    "plt.title('Lasso regression', y=1.08)\n",
    "plt.show()\n",
    "optimal_lambda = lambdas[np.argmax(cont[:,1]==np.min(cont[:,1]))]\n",
    "print(\"optimal_lambda: \", optimal_lambda)\n",
    "\n",
    "# train model with the optimal lambda\n",
    "model = Lasso(alpha=optimal_lambda).fit(x_norm, y_norm)\n",
    "mse = metrics.mean_squared_error(y_norm,model.predict(x_norm))\n",
    "print(\"total MSE = \", mse)\n",
    "print(\"beta: \", model.coef_)"
   ]
  },
  {
   "cell_type": "markdown",
   "id": "35c28cff-fa40-4c9d-8a37-37e86072696c",
   "metadata": {},
   "source": [
    "## Question 4"
   ]
  },
  {
   "cell_type": "code",
   "execution_count": 39,
   "id": "b492be2f-e01e-4604-80a3-54417a37197e",
   "metadata": {},
   "outputs": [
    {
     "name": "stdout",
     "output_type": "stream",
     "text": [
      "int64\n",
      "(42701, 1) (42701,)\n"
     ]
    }
   ],
   "source": [
    "from sklearn.linear_model import LogisticRegression\n",
    "\n",
    "new_df = df.dropna(subset=[\"totalyearlycompensation\", \"gender\"], axis=0)\n",
    "X = new_df[\"totalyearlycompensation\"].values.reshape(-1,1)\n",
    "y = new_df[\"gender\"].values\n",
    "\n",
    "# convert y to discrete data type\n",
    "y = y.astype(np.int64)\n",
    "print(y.dtype)\n",
    "\n",
    "# normalize our X data for trainig\n",
    "X_norm = (X - np.mean(X, axis=0))/np.std(X, axis=0)\n",
    "\n",
    "# have a understanding of total records of cleaned data\n",
    "print(X_norm.shape, y.shape)"
   ]
  },
  {
   "cell_type": "code",
   "execution_count": 40,
   "id": "65efbf6c-aaa3-43af-bd7a-84d3b4b0f8c2",
   "metadata": {},
   "outputs": [
    {
     "name": "stdout",
     "output_type": "stream",
     "text": [
      "Precision = 18.6%, Recall = 65.2%\n",
      "beta without control:  -0.16273131609588215\n"
     ]
    }
   ],
   "source": [
    "# run a logistic regression\n",
    "xTrain, xTest, yTrain, yTest = model_selection.train_test_split(X_norm, y, test_size=0.2, random_state=0)\n",
    "logistic_model = LogisticRegression(solver = 'liblinear', class_weight = 'balanced')\n",
    "logistic_model.fit(xTrain, yTrain)\n",
    "\n",
    "pred = logistic_model.predict(xTest)\n",
    "precision = metrics.precision_score(yTest, pred)\n",
    "recall = metrics.recall_score(yTest, pred)\n",
    "\n",
    "print(\"Precision = {:0.1f}%, Recall = {:0.1f}%\".format(100 * precision, 100 * recall))\n",
    "print(\"beta without control: \", logistic_model.coef_[0][0])"
   ]
  },
  {
   "cell_type": "code",
   "execution_count": 43,
   "id": "66ca1d4f-0859-422a-bd24-35414581be30",
   "metadata": {},
   "outputs": [],
   "source": [
    "z = df.dropna(axis=0)\n",
    "X = z[['totalyearlycompensation', 'yearsofexperience', 'yearsatcompany', 'Masters_Degree', 'Bachelors_Degree', 'Doctorate_Degree', 'Some_College', 'Race_Asian', 'Race_White', 'Race_Two_Or_More', 'Race_Black', 'Race_Hispanic', 'Age', 'Height', 'Zodiac', 'SAT', 'GPA']].values\n",
    "y = z[\"gender\"].values\n",
    "\n",
    "# convert y to discrete data type\n",
    "y = y.astype(np.int64)\n",
    "\n",
    "# normalize our data for trainig ?\n",
    "X_norm = (X - np.mean(X, axis=0))/np.std(X, axis=0)"
   ]
  },
  {
   "cell_type": "code",
   "execution_count": 44,
   "id": "12f66392-2de4-471d-a344-7da248f02250",
   "metadata": {},
   "outputs": [
    {
     "name": "stdout",
     "output_type": "stream",
     "text": [
      "Precision = 21.1%, Recall = 65.4%\n",
      "beta with control: -0.03619834300603163\n"
     ]
    }
   ],
   "source": [
    "xTrain, xTest, yTrain, yTest = model_selection.train_test_split(X_norm, y, test_size=0.2, random_state=0)\n",
    "logistic_model = LogisticRegression(solver = 'liblinear', class_weight = 'balanced')\n",
    "logistic_model.fit(xTrain, yTrain)\n",
    "\n",
    "pred = logistic_model.predict(xTest)\n",
    "precision = metrics.precision_score(yTest, pred)\n",
    "recall = metrics.recall_score(yTest, pred)\n",
    "\n",
    "print(\"Precision = {:0.1f}%, Recall = {:0.1f}%\".format(100 * precision, 100 * recall))\n",
    "print(\"beta with control:\", logistic_model.coef_[0][0])"
   ]
  },
  {
   "cell_type": "markdown",
   "id": "56760fc7-eb30-47d6-aff8-7784b0cc7df3",
   "metadata": {},
   "source": [
    "## Question 5"
   ]
  },
  {
   "cell_type": "code",
   "execution_count": 45,
   "id": "54b82afb-f3e1-43d6-b384-0b1a75d37978",
   "metadata": {},
   "outputs": [
    {
     "name": "stdout",
     "output_type": "stream",
     "text": [
      "['company', 'title', 'location', 'totalyearlycompensation', 'basesalary', 'stockgrantvalue', 'bonus', 'yearsofexperience', 'yearsatcompany', 'gender', 'Masters_Degree', 'Bachelors_Degree', 'Doctorate_Degree', 'Highschool', 'Some_College', 'Race_Asian', 'Race_White', 'Race_Two_Or_More', 'Race_Black', 'Race_Hispanic', 'Race', 'Education', 'Age', 'Height', 'Zodiac', 'SAT', 'GPA', 'high']\n"
     ]
    }
   ],
   "source": [
    "print(df.columns.tolist())"
   ]
  },
  {
   "cell_type": "code",
   "execution_count": 47,
   "id": "40529e4e-d246-472d-828c-e1d9226d5b41",
   "metadata": {},
   "outputs": [
    {
     "name": "stdout",
     "output_type": "stream",
     "text": [
      "yearsofexperience : Precision = 68.1%, Recall = 61.4%\n",
      "Age : Precision = 58.5%, Recall = 56.8%\n",
      "Height : Precision = 50.6%, Recall = 50.8%\n",
      "SAT : Precision = 59.0%, Recall = 63.6%\n",
      "GPA : Precision = 58.8%, Recall = 62.4%\n"
     ]
    }
   ],
   "source": [
    "new_df = df[['yearsofexperience', 'Age', 'Height', 'SAT', 'GPA', 'high']]\n",
    "for col in new_df.columns.tolist(): \n",
    "    if(col == \"high\"): continue\n",
    "    z = new_df.dropna(subset=[col, \"high\"])\n",
    "    X = z[col].values.reshape(-1,1)\n",
    "    X_norm = (X - np.mean(X, axis=0))/np.std(X, axis=0)\n",
    "    y = z[\"high\"].values\n",
    "    \n",
    "    # split the sample to train and test set\n",
    "    xTrain, xTest, yTrain, yTest = model_selection.train_test_split(X_norm, y, test_size=0.2, random_state=0)\n",
    "        \n",
    "    logistic_model = LogisticRegression(solver = 'liblinear', class_weight = 'balanced')\n",
    "    logistic_model.fit(xTrain, yTrain)\n",
    "    \n",
    "    pred = logistic_model.predict(xTest)\n",
    "   \n",
    "    # Precision score and recall score\n",
    "    # real positive rate among predicted value\n",
    "    # real positive rate among real value\n",
    "    precision = metrics.precision_score(yTest, pred)\n",
    "    recall = metrics.recall_score(yTest, pred)\n",
    "    print(col, \": Precision = {:0.1f}%, Recall = {:0.1f}%\".format(100 * precision, 100 * recall))"
   ]
  },
  {
   "cell_type": "markdown",
   "id": "c09c055c-885b-4732-968d-6b5934653cc2",
   "metadata": {},
   "source": [
    "## EC1"
   ]
  },
  {
   "cell_type": "code",
   "execution_count": 53,
   "id": "218b53b5-faac-4abc-bfb5-8479e60b7887",
   "metadata": {},
   "outputs": [
    {
     "data": {
      "image/png": "[encoded data removed]",
      "text/plain": [
       "<Figure size 1080x360 with 3 Axes>"
      ]
     },
     "metadata": {
      "needs_background": "light"
     },
     "output_type": "display_data"
    }
   ],
   "source": [
    "# EC 1\n",
    "fig, axes = plt.subplots(1,3, figsize=(15,5))\n",
    "i = 0\n",
    "for col in ['basesalary','Age', 'Height']: \n",
    "    data = df[col].dropna().values\n",
    "    axes[i].hist(data, bins=20)\n",
    "    axes[i].set_xlabel(col)\n",
    "    i += 1"
   ]
  },
  {
   "cell_type": "markdown",
   "id": "82243d9f-b799-492a-bf7e-a9a7eb4f531a",
   "metadata": {},
   "source": [
    "## EC2"
   ]
  },
  {
   "cell_type": "code",
   "execution_count": 54,
   "id": "a08e9f47-7cd6-4bbe-a135-bc6cd1d343a9",
   "metadata": {},
   "outputs": [
    {
     "name": "stdout",
     "output_type": "stream",
     "text": [
      "Index(['company', 'title', 'location', 'totalyearlycompensation', 'basesalary',\n",
      "       'stockgrantvalue', 'bonus', 'yearsofexperience', 'yearsatcompany',\n",
      "       'gender', 'Masters_Degree', 'Bachelors_Degree', 'Doctorate_Degree',\n",
      "       'Highschool', 'Some_College', 'Race_Asian', 'Race_White',\n",
      "       'Race_Two_Or_More', 'Race_Black', 'Race_Hispanic', 'Race', 'Education',\n",
      "       'Age', 'Height', 'Zodiac', 'SAT', 'GPA', 'high'],\n",
      "      dtype='object')\n"
     ]
    }
   ],
   "source": [
    "print(df.columns)"
   ]
  },
  {
   "cell_type": "code",
   "execution_count": 55,
   "id": "351ac2df-d650-4317-b226-64a8e015fb32",
   "metadata": {},
   "outputs": [
    {
     "data": {
      "text/plain": [
       "title                      Software Engineer\n",
       "totalyearlycompensation                41231\n",
       "Name: 11, dtype: object"
      ]
     },
     "execution_count": 55,
     "metadata": {},
     "output_type": "execute_result"
    }
   ],
   "source": [
    "count = df.groupby(\"title\").totalyearlycompensation.count().reset_index()\n",
    "count.sort_values(by=\"totalyearlycompensation\", ascending=False).iloc[0,:]"
   ]
  },
  {
   "cell_type": "code",
   "execution_count": 56,
   "id": "c36a9eee-8f4b-4276-9380-1942bc32b49e",
   "metadata": {},
   "outputs": [],
   "source": [
    "# now we want to know the compensation of software engineer in different states"
   ]
  },
  {
   "cell_type": "code",
   "execution_count": 57,
   "id": "28215819-7c5b-47cb-905b-49065a4a43c6",
   "metadata": {},
   "outputs": [],
   "source": [
    "# extract state\n",
    "df['state'] = df['location'].str.split(',').str[-1].str.strip()"
   ]
  },
  {
   "cell_type": "code",
   "execution_count": 58,
   "id": "01fddfd0-f6e3-49f6-8205-92b00723cc7b",
   "metadata": {},
   "outputs": [
    {
     "name": "stdout",
     "output_type": "stream",
     "text": [
      "[ True False]\n"
     ]
    }
   ],
   "source": [
    "# add a ifUS column to indicate if the person is in the us\n",
    "states = [ 'AK', 'AL', 'AR', 'AZ', 'CA', 'CO', 'CT', 'DC', 'DE', 'FL', 'GA',\n",
    "           'HI', 'IA', 'ID', 'IL', 'IN', 'KS', 'KY', 'LA', 'MA', 'MD', 'ME',\n",
    "           'MI', 'MN', 'MO', 'MS', 'MT', 'NC', 'ND', 'NE', 'NH', 'NJ', 'NM',\n",
    "           'NV', 'NY', 'OH', 'OK', 'OR', 'PA', 'RI', 'SC', 'SD', 'TN', 'TX',\n",
    "           'UT', 'VA', 'VT', 'WA', 'WI', 'WV', 'WY']\n",
    "\n",
    "df['US'] = df['state'].apply(lambda x: x in states)\n",
    "print(df['US'].unique())"
   ]
  },
  {
   "cell_type": "code",
   "execution_count": 59,
   "id": "55a14aac-b4a5-42e6-8c4c-3e9905c26508",
   "metadata": {},
   "outputs": [
    {
     "name": "stdout",
     "output_type": "stream",
     "text": [
      "   state  totalyearlycompensation\n",
      "3     CA            263195.505543\n",
      "45    WA            229083.084242\n",
      "33    NY            224675.973608\n",
      "4     CO            186606.635071\n",
      "18    MA            183038.994801\n",
      "10    HI            180333.333333\n",
      "36    OR            171389.408100\n",
      "25    MT            166200.000000\n",
      "37    PA            161000.000000\n",
      "42    UT            160189.349112\n"
     ]
    }
   ],
   "source": [
    "# get the state ranking of highest average total yearly compensation\n",
    "state_df = df[(df['US'] == True) & (df['title'] == 'Software Engineer')]\n",
    "state_average = state_df.groupby(['state'])['totalyearlycompensation'].mean().reset_index()\n",
    "print(state_average.sort_values(by=\"totalyearlycompensation\", ascending=False).iloc[0:10, :])"
   ]
  },
  {
   "cell_type": "code",
   "execution_count": 60,
   "id": "728ceefb-dd87-4c58-a17e-f929ce6c9596",
   "metadata": {},
   "outputs": [],
   "source": [
    "state_dummies = pd.get_dummies(state_df.state)"
   ]
  },
  {
   "cell_type": "code",
   "execution_count": 61,
   "id": "85301ed0-d017-4322-8fc5-4cc852a42460",
   "metadata": {},
   "outputs": [
    {
     "name": "stdout",
     "output_type": "stream",
     "text": [
      "(34244, 49)\n"
     ]
    }
   ],
   "source": [
    "print(state_dummies.shape)"
   ]
  },
  {
   "cell_type": "code",
   "execution_count": 70,
   "id": "4574f924-3959-41b7-95e2-772690fc1f07",
   "metadata": {},
   "outputs": [
    {
     "data": {
      "text/plain": [
       "LogisticRegression(class_weight='balanced', solver='liblinear')"
      ]
     },
     "execution_count": 70,
     "metadata": {},
     "output_type": "execute_result"
    }
   ],
   "source": [
    "# run a logistic regression based on state dummy variables\n",
    "X = state_dummies\n",
    "y = state_df['high']\n",
    "logistic_model = LogisticRegression(solver = 'liblinear', class_weight = 'balanced')\n",
    "logistic_model.fit(X, y)"
   ]
  },
  {
   "cell_type": "code",
   "execution_count": 75,
   "id": "8318fa9b-2960-42c6-b3da-fbab6a63bbab",
   "metadata": {},
   "outputs": [
    {
     "name": "stdout",
     "output_type": "stream",
     "text": [
      "State with the highest absolute beta:  CA , beta:  2.3768332248247304\n"
     ]
    }
   ],
   "source": [
    "# get the state name with the highest beta\n",
    "maxVal = -1\n",
    "maxLoc = -1\n",
    "for i in range(len(logistic_model.coef_[0])):\n",
    "    num = logistic_model.coef_[0][i]\n",
    "    if num > maxVal: \n",
    "        maxLoc = i\n",
    "        maxVal = num\n",
    "print(\"State with the highest absolute beta: \", state_dummies.iloc[:, maxLoc].name, \", beta: \", maxVal)"
   ]
  }
 ],
 "metadata": {
  "kernelspec": {
   "display_name": "Python 3 (ipykernel)",
   "language": "python",
   "name": "python3"
  },
  "language_info": {
   "codemirror_mode": {
    "name": "ipython",
    "version": 3
   },
   "file_extension": ".py",
   "mimetype": "text/x-python",
   "name": "python",
   "nbconvert_exporter": "python",
   "pygments_lexer": "ipython3",
   "version": "3.8.12"
  }
 },
 "nbformat": 4,
 "nbformat_minor": 5
}

{
 "cells": [
  {
   "cell_type": "code",
   "execution_count": 28,
   "id": "52b5b591-e845-45d3-be33-537ea6ec4257",
   "metadata": {},
   "outputs": [],
   "source": [
    "import pandas as pd\n",
    "import numpy as np\n",
    "import matplotlib.pyplot as plt\n",
    "from sklearn.linear_model import LogisticRegression\n",
    "from sklearn.svm import LinearSVC, SVC\n",
    "from sklearn.calibration import CalibratedClassifierCV\n",
    "from sklearn import tree\n",
    "from sklearn.ensemble import RandomForestClassifier\n",
    "from sklearn.ensemble import AdaBoostClassifier\n",
    "from sklearn import metrics\n",
    "from sklearn import model_selection"
   ]
  },
  {
   "cell_type": "code",
   "execution_count": 29,
   "id": "7e9561fd-e61f-466d-bd73-24170d1f0abb",
   "metadata": {},
   "outputs": [
    {
     "name": "stdout",
     "output_type": "stream",
     "text": [
      "['Diabetes', 'HighBP', 'HighChol', 'BMI', 'Smoker', 'Stroke', 'Myocardial', 'PhysActivity', 'Fruit', 'Vegetables', 'HeavyDrinker', 'HasHealthcare', 'NotAbleToAffordDoctor', 'GeneralHealth', 'MentalHealth', 'PhysicalHealth', 'HardToClimbStairs', 'BiologicalSex', 'AgeBracket', 'EducationBracket', 'IncomeBracket', 'Zodiac']\n"
     ]
    }
   ],
   "source": [
    "# import data\n",
    "df = pd.read_csv(\"diabetes.csv\")\n",
    "cols = df.columns.tolist()\n",
    "print(cols)"
   ]
  },
  {
   "cell_type": "code",
   "execution_count": 30,
   "id": "4c3edebc-12e1-4035-9111-80b182c732eb",
   "metadata": {},
   "outputs": [],
   "source": [
    "# extract our y out\n",
    "y = df.iloc[:, 0]\n",
    "# get all other predictors\n",
    "X = df.iloc[:, 1:]\n",
    "# normalize them to have them in the same scale\n",
    "X = (X - np.mean(X, axis=0))/np.std(X, axis=0)\n",
    "# split our train-test set\n",
    "xTrain, xTest, yTrain, yTest = model_selection.train_test_split(X, y, test_size=0.2, random_state=0)"
   ]
  },
  {
   "cell_type": "markdown",
   "id": "3fe050cb-a8d7-4b06-b077-575eef4e695c",
   "metadata": {},
   "source": [
    "## a"
   ]
  },
  {
   "cell_type": "code",
   "execution_count": 5,
   "id": "3d4d1965-bc58-4dcd-8964-9e6c47ace35c",
   "metadata": {},
   "outputs": [
    {
     "data": {
      "text/plain": [
       "0.8251768649769311"
      ]
     },
     "execution_count": 5,
     "metadata": {},
     "output_type": "execute_result"
    }
   ],
   "source": [
    "# create a logisitc model\n",
    "lm = LogisticRegression(solver = 'liblinear', class_weight = 'balanced')\n",
    "lm.fit(xTrain, yTrain)\n",
    "\n",
    "# validate our model using auc score\n",
    "pred = lm.predict_proba(xTest)[:, 1]\n",
    "lm_auc = metrics.roc_auc_score(yTest, pred)\n",
    "lm_auc"
   ]
  },
  {
   "cell_type": "code",
   "execution_count": 7,
   "id": "e19cd4ac-277c-4d1d-9a76-229aa89d3696",
   "metadata": {},
   "outputs": [],
   "source": [
    "# find the best predictor\n",
    "# drop each predictor and see which drops the auc the most\n",
    "best_pred_ind = -1\n",
    "min_auc = 1.2\n",
    "\n",
    "for i in range(1, len(cols)): \n",
    "    df1 = df.drop(columns=[cols[i]])\n",
    "    X_i = df1.iloc[:, 1:]\n",
    "    # normalize X_i to have them in the same scale\n",
    "    X_i = (X_i - np.mean(X_i, axis=0))/np.std(X_i, axis=0)\n",
    "    \n",
    "    # note that here we use same random_state for comparing auc\n",
    "    xTrn, xTst, yTrn, yTst = model_selection.train_test_split(X_i, y, test_size=0.2, random_state=0)\n",
    "    \n",
    "    lm = LogisticRegression(solver = 'liblinear', class_weight = 'balanced')\n",
    "    lm.fit(xTrn, yTrn)\n",
    "\n",
    "    # validate our model using auc score\n",
    "    pred = lm.predict_proba(xTst)[:, 1]\n",
    "    auc = metrics.roc_auc_score(yTst, pred)\n",
    "    \n",
    "    if(auc < min_auc): \n",
    "        min_auc = auc\n",
    "        best_pred_ind = i"
   ]
  },
  {
   "cell_type": "code",
   "execution_count": 8,
   "id": "b3651906-9220-4970-b43c-c60a1ee494db",
   "metadata": {},
   "outputs": [
    {
     "name": "stdout",
     "output_type": "stream",
     "text": [
      "GeneralHealth\n",
      "-0.014941717019063772\n"
     ]
    }
   ],
   "source": [
    "best_pred = cols[best_pred_ind]\n",
    "print(best_pred)\n",
    "diff = min_auc - lm_auc\n",
    "print(diff)"
   ]
  },
  {
   "cell_type": "markdown",
   "id": "94fea054-5fc3-474f-a0f0-13fdaa9102e9",
   "metadata": {},
   "source": [
    "## b"
   ]
  },
  {
   "cell_type": "code",
   "execution_count": 33,
   "id": "11c05220-69c9-4dfe-9e63-6e56b355cf14",
   "metadata": {},
   "outputs": [
    {
     "data": {
      "image/png": "[encoded data removed]",
      "text/plain": [
       "<Figure size 432x288 with 1 Axes>"
      ]
     },
     "metadata": {
      "needs_background": "light"
     },
     "output_type": "display_data"
    }
   ],
   "source": [
    "# hyperparameter tuning\n",
    "\n",
    "# Get the C values we want to look at.\n",
    "C = 1/(np.float_power(2, np.arange(-5, 15))) # 1,...,1e-6\n",
    "\n",
    "k = 10 # Kfold CV.\n",
    "cv_scores = np.zeros(len(C))\n",
    "split = model_selection.KFold(k)\n",
    "for i in range(len(C)):\n",
    "    svm = LinearSVC(C = C[i], dual = False)\n",
    "    # svm = CalibratedClassifierCV(svm)\n",
    "    cv_scores[i] = np.mean(model_selection.cross_val_score(svm, xTrain, yTrain, cv = split))\n",
    "\n",
    "plt.figure(2)\n",
    "plt.semilogx(C, cv_scores, 'b-x')\n",
    "plt.xlabel(r'$C$')\n",
    "plt.ylabel(r'Score')\n",
    "plt.title(r'{:d}-Fold CV Score for Linear SVM'.format(k))\n",
    "plt.grid();"
   ]
  },
  {
   "cell_type": "code",
   "execution_count": 34,
   "id": "4ca9ee66-0ff5-4f14-9182-01a3cb719891",
   "metadata": {},
   "outputs": [
    {
     "data": {
      "text/plain": [
       "0.824942182992972"
      ]
     },
     "execution_count": 34,
     "metadata": {},
     "output_type": "execute_result"
    }
   ],
   "source": [
    "# create a svm model\n",
    "svm = LinearSVC(C = 1, dual = False)\n",
    "# svm = CalibratedClassifierCV(svm) # allow computing probabilities\n",
    "svm.fit(xTrain, yTrain)\n",
    "# validate our model using auc score\n",
    "pred = svm._predict_proba_lr(xTest)[:, 1]\n",
    "svm_auc = metrics.roc_auc_score(yTest, pred)\n",
    "svm_auc"
   ]
  },
  {
   "cell_type": "code",
   "execution_count": 35,
   "id": "30e29aee-9b87-4565-a6b0-803771395caf",
   "metadata": {},
   "outputs": [],
   "source": [
    "# find the best predictor\n",
    "# drop each predictor and see which drops the auc the most\n",
    "best_pred_ind = -1\n",
    "min_auc = 1.2\n",
    "\n",
    "for i in range(1, len(cols)): \n",
    "    df1 = df.drop(columns=[cols[i]])\n",
    "    X_i = df1.iloc[:, 1:]\n",
    "    # normalize X_i to have them in the same scale\n",
    "    X_i = (X_i - np.mean(X_i, axis=0))/np.std(X_i, axis=0)\n",
    "    \n",
    "    # note that here we use same random_state for comparing auc\n",
    "    xTrn, xTst, yTrn, yTst = model_selection.train_test_split(X_i, y, test_size=0.2, random_state=0)\n",
    "    \n",
    "    svm = LinearSVC(C = 1, dual = False)\n",
    "    svm.fit(xTrn, yTrn)\n",
    "\n",
    "    # validate our model using auc score\n",
    "    pred = svm._predict_proba_lr(xTst)[:, 1]\n",
    "    auc = metrics.roc_auc_score(yTst, pred)\n",
    "    \n",
    "    if(auc < min_auc): \n",
    "        min_auc = auc\n",
    "        best_pred_ind = i"
   ]
  },
  {
   "cell_type": "code",
   "execution_count": 36,
   "id": "3a674d78-daac-46e4-b1f5-55ef17f767d3",
   "metadata": {},
   "outputs": [
    {
     "name": "stdout",
     "output_type": "stream",
     "text": [
      "GeneralHealth\n",
      "-0.015078960274410136\n"
     ]
    }
   ],
   "source": [
    "best_pred = cols[best_pred_ind]\n",
    "print(best_pred)\n",
    "diff = min_auc - svm_auc\n",
    "print(diff)"
   ]
  },
  {
   "cell_type": "markdown",
   "id": "a31dbf59-5f51-45ad-9d8e-8809a73bf652",
   "metadata": {},
   "source": [
    "## C"
   ]
  },
  {
   "cell_type": "code",
   "execution_count": 13,
   "id": "b8d3828f-ab00-4be2-9e19-1c9a47ad24c0",
   "metadata": {},
   "outputs": [
    {
     "data": {
      "text/plain": [
       "0.5998504916741614"
      ]
     },
     "execution_count": 13,
     "metadata": {},
     "output_type": "execute_result"
    }
   ],
   "source": [
    "# create a single individiaul decision tree model\n",
    "dt = tree.DecisionTreeClassifier(criterion='entropy')\n",
    "dt.fit(xTrain, yTrain)\n",
    "\n",
    "# validate our model using auc score\n",
    "pred = dt.predict_proba(xTest)[:,1]\n",
    "dt_auc = metrics.roc_auc_score(yTest, pred)\n",
    "dt_auc"
   ]
  },
  {
   "cell_type": "code",
   "execution_count": 14,
   "id": "77e68c02-e3f8-43c9-876c-139c97d5c08e",
   "metadata": {},
   "outputs": [],
   "source": [
    "# find the best predictor\n",
    "# drop each predictor and see which drops the auc the most\n",
    "best_pred_ind = -1\n",
    "min_auc = 1.2\n",
    "\n",
    "for i in range(1, len(cols)): \n",
    "    df1 = df.drop(columns=[cols[i]])\n",
    "    X_i = df1.iloc[:, 1:]\n",
    "    # normalize X_i to have them in the same scale\n",
    "    X_i = (X_i - np.mean(X_i, axis=0))/np.std(X_i, axis=0)\n",
    "    \n",
    "    # note that here we use same random_state for comparing auc\n",
    "    xTrn, xTst, yTrn, yTst = model_selection.train_test_split(X_i, y, test_size=0.2, random_state=0)\n",
    "    \n",
    "    dt = tree.DecisionTreeClassifier(criterion='entropy')\n",
    "    dt.fit(xTrn, yTrn)\n",
    "\n",
    "    # validate our model using auc score\n",
    "    pred = dt.predict_proba(xTst)[:, 1]\n",
    "    auc = metrics.roc_auc_score(yTst, pred)\n",
    "    \n",
    "    if(auc < min_auc): \n",
    "        min_auc = auc\n",
    "        best_pred_ind = i"
   ]
  },
  {
   "cell_type": "code",
   "execution_count": 15,
   "id": "5c8b0c9e-3539-43e1-94c5-227f7800e23e",
   "metadata": {},
   "outputs": [
    {
     "name": "stdout",
     "output_type": "stream",
     "text": [
      "BMI\n",
      "-0.014151173565244424\n"
     ]
    }
   ],
   "source": [
    "best_pred = cols[best_pred_ind]\n",
    "print(best_pred)\n",
    "diff = min_auc - dt_auc\n",
    "print(diff)"
   ]
  },
  {
   "cell_type": "markdown",
   "id": "e1b39ca4-d34b-4400-8441-34281934a122",
   "metadata": {},
   "source": [
    "## d"
   ]
  },
  {
   "cell_type": "code",
   "execution_count": 22,
   "id": "95489c06-e193-471f-9029-66cd0179e068",
   "metadata": {},
   "outputs": [
    {
     "data": {
      "text/plain": [
       "0.8027797757128186"
      ]
     },
     "execution_count": 22,
     "metadata": {},
     "output_type": "execute_result"
    }
   ],
   "source": [
    "# create a random forest model\n",
    "rf = RandomForestClassifier(n_estimators=100, max_samples=1.0, max_features=0.5,bootstrap=True, criterion='gini')\n",
    "rf.fit(xTrain, yTrain)\n",
    "\n",
    "# validate our model using auc score\n",
    "pred = rf.predict_proba(xTest)[:,1]\n",
    "rf_auc = metrics.roc_auc_score(yTest, pred)\n",
    "rf_auc"
   ]
  },
  {
   "cell_type": "code",
   "execution_count": 23,
   "id": "71b2c057-0392-4259-9400-b4d5821e964f",
   "metadata": {},
   "outputs": [],
   "source": [
    "# find the best predictor\n",
    "# drop each predictor and see which drops the auc the most\n",
    "best_pred_ind = -1\n",
    "min_auc = 1.2\n",
    "\n",
    "for i in range(1, len(cols)): \n",
    "    df1 = df.drop(columns=[cols[i]])\n",
    "    X_i = df1.iloc[:, 1:]\n",
    "    # normalize X_i to have them in the same scale\n",
    "    X_i = (X_i - np.mean(X_i, axis=0))/np.std(X_i, axis=0)\n",
    "    \n",
    "    # note that here we use same random_state for comparing auc\n",
    "    xTrn, xTst, yTrn, yTst = model_selection.train_test_split(X_i, y, test_size=0.2, random_state=0)\n",
    "    \n",
    "    rf = RandomForestClassifier(n_estimators=100, max_samples=1.0, max_features=0.5,bootstrap=True, criterion='gini')\n",
    "    rf.fit(xTrn, yTrn)\n",
    "\n",
    "    # validate our model using auc score\n",
    "    pred = rf.predict_proba(xTst)[:, 1]\n",
    "    auc = metrics.roc_auc_score(yTst, pred)\n",
    "    \n",
    "    if(auc < min_auc): \n",
    "        min_auc = auc\n",
    "        best_pred_ind = i"
   ]
  },
  {
   "cell_type": "code",
   "execution_count": 24,
   "id": "e1967a46-a0b0-43ca-a970-a8d966e42eed",
   "metadata": {},
   "outputs": [
    {
     "name": "stdout",
     "output_type": "stream",
     "text": [
      "BMI\n",
      "-0.029471516289451882\n"
     ]
    }
   ],
   "source": [
    "best_pred = cols[best_pred_ind]\n",
    "print(best_pred)\n",
    "diff = min_auc - rf_auc\n",
    "print(diff)"
   ]
  },
  {
   "cell_type": "markdown",
   "id": "5cefe71f-2509-461e-8f41-09d9312f3163",
   "metadata": {},
   "source": [
    "## e"
   ]
  },
  {
   "cell_type": "code",
   "execution_count": 25,
   "id": "33a98174-2b66-41fd-b57b-233115b9c961",
   "metadata": {},
   "outputs": [
    {
     "data": {
      "text/plain": [
       "0.8286129438311864"
      ]
     },
     "execution_count": 25,
     "metadata": {},
     "output_type": "execute_result"
    }
   ],
   "source": [
    "# create a adaboost model\n",
    "bdt = AdaBoostClassifier(\n",
    "    tree.DecisionTreeClassifier(max_depth=1), algorithm=\"SAMME\", n_estimators=100, learning_rate=1\n",
    ")\n",
    "bdt.fit(X, y)\n",
    "\n",
    "# validate our model using auc score\n",
    "pred = bdt.predict_proba(xTest)[:,1]\n",
    "bdt_auc = metrics.roc_auc_score(yTest, pred)\n",
    "bdt_auc"
   ]
  },
  {
   "cell_type": "code",
   "execution_count": 26,
   "id": "f15d476c-fdb6-4ebe-bec1-f8630b330d3e",
   "metadata": {},
   "outputs": [],
   "source": [
    "# find the best predictor\n",
    "# drop each predictor and see which drops the auc the most\n",
    "best_pred_ind = -1\n",
    "min_auc = 1.2\n",
    "\n",
    "for i in range(1, len(cols)): \n",
    "    df1 = df.drop(columns=[cols[i]])\n",
    "    X_i = df1.iloc[:, 1:]\n",
    "    # normalize X_i to have them in the same scale\n",
    "    X_i = (X_i - np.mean(X_i, axis=0))/np.std(X_i, axis=0)\n",
    "    \n",
    "    # note that here we use same random_state for comparing auc\n",
    "    xTrn, xTst, yTrn, yTst = model_selection.train_test_split(X_i, y, test_size=0.2, random_state=0)\n",
    "    \n",
    "    bdt = AdaBoostClassifier(\n",
    "        tree.DecisionTreeClassifier(max_depth=1), algorithm=\"SAMME\", n_estimators=100, learning_rate=1\n",
    "    )\n",
    "    bdt.fit(xTrn, yTrn)\n",
    "\n",
    "    # validate our model using auc score\n",
    "    pred = bdt.predict_proba(xTst)[:,1]\n",
    "    auc = metrics.roc_auc_score(yTst, pred)\n",
    "    \n",
    "    if(auc < min_auc): \n",
    "        min_auc = auc\n",
    "        best_pred_ind = i"
   ]
  },
  {
   "cell_type": "code",
   "execution_count": 27,
   "id": "d0e7b5ef-4cec-4760-90ae-e4da7cbeb376",
   "metadata": {},
   "outputs": [
    {
     "name": "stdout",
     "output_type": "stream",
     "text": [
      "BMI\n",
      "-0.01521333281186732\n"
     ]
    }
   ],
   "source": [
    "best_pred = cols[best_pred_ind]\n",
    "print(best_pred)\n",
    "diff = min_auc - bdt_auc\n",
    "print(diff)"
   ]
  },
  {
   "cell_type": "markdown",
   "id": "8dc02a00-2d7b-4ce0-b4f9-f8dbb738696e",
   "metadata": {},
   "source": [
    "## EC"
   ]
  },
  {
   "cell_type": "code",
   "execution_count": 75,
   "id": "b5992b28-17e7-4526-b5d3-c09350afa037",
   "metadata": {},
   "outputs": [
    {
     "name": "stdout",
     "output_type": "stream",
     "text": [
      "GeneralHealth PhysicalHealth\n",
      "0.524363643849337\n"
     ]
    }
   ],
   "source": [
    "corr_matrix = df.corr()\n",
    "max_corr = -1.1\n",
    "max_i, max_j = -1, -1\n",
    "flip = 1\n",
    "for i in range(len(corr_matrix)): \n",
    "    for j in range(len(corr_matrix)): \n",
    "        if(i == j): continue\n",
    "        corr = abs(corr_matrix.iloc[i,j])\n",
    "        if(corr > max_corr): \n",
    "            max_corr = corr\n",
    "            max_i = i\n",
    "            max_j = j\n",
    "            if(corr == -abs(corr_matrix.iloc[i,j])): flip = -1\n",
    "        if(corr < min_corr): min_corr = corr\n",
    "\n",
    "print(cols[max_i], cols[max_j])\n",
    "print(flip * max_corr)\n"
   ]
  },
  {
   "cell_type": "code",
   "execution_count": 71,
   "id": "9bda9a76-b07f-495b-9fa2-54535068265e",
   "metadata": {},
   "outputs": [
    {
     "data": {
      "image/png": "[encoded data removed]",
      "text/plain": [
       "<Figure size 1440x720 with 6 Axes>"
      ]
     },
     "metadata": {
      "needs_background": "light"
     },
     "output_type": "display_data"
    }
   ],
   "source": [
    "fig, axes = plt.subplots(2,3,figsize = (20,10))\n",
    "bracket = ['GeneralHealth', 'MentalHealth', 'PhysicalHealth', 'AgeBracket', 'EducationBracket', 'IncomeBracket', 'Zodiac']\n",
    "for i, col in enumerate(bracket[1:]): \n",
    "    total = df.groupby(col).Diabetes.count().reset_index()\n",
    "    dia = df[df[\"Diabetes\"] == 1].groupby(col).Diabetes.count().reset_index()\n",
    "    count = dia.iloc[:,1]/total.iloc[:,1]\n",
    "    axes[i//3][i%3].bar(total.iloc[:, 0], count)\n",
    "    axes[i//3][i%3].set_xlabel(col)\n",
    "    axes[i//3][i%3].set_ylabel(\"% of diabetes\")"
   ]
  }
 ],
 "metadata": {
  "kernelspec": {
   "display_name": "Python 3 (ipykernel)",
   "language": "python",
   "name": "python3"
  },
  "language_info": {
   "codemirror_mode": {
    "name": "ipython",
    "version": 3
   },
   "file_extension": ".py",
   "mimetype": "text/x-python",
   "name": "python",
   "nbconvert_exporter": "python",
   "pygments_lexer": "ipython3",
   "version": "3.8.12"
  }
 },
 "nbformat": 4,
 "nbformat_minor": 5
}

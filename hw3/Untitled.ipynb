{
 "cells": [
  {
   "cell_type": "code",
   "execution_count": 5,
   "id": "42f76106-aeeb-4f1c-9c95-eeb4e3bc47e9",
   "metadata": {},
   "outputs": [],
   "source": [
    "import pandas as pd\n",
    "import numpy as np\n",
    "import matplotlib.pyplot as plt\n",
    "from sklearn.linear_model import LogisticRegression\n",
    "from sklearn.svm import LinearSVC\n",
    "from sklearn.calibration import CalibratedClassifierCV\n",
    "from sklearn.tree import tree\n",
    "from sklearn.ensemble import RandomForestClassifier\n",
    "from sklearn.ensemble import AdaBoostClassifier\n",
    "\n",
    "from sklearn import metrics\n",
    "from sklearn import model_selection"
   ]
  },
  {
   "cell_type": "code",
   "execution_count": 6,
   "id": "9e9c53d5-76bc-4233-98dc-3d9c06cd8dd4",
   "metadata": {},
   "outputs": [],
   "source": [
    "df = pd.read_csv(\"diabetes.csv\")"
   ]
  },
  {
   "cell_type": "code",
   "execution_count": 7,
   "id": "a3f584da-ce74-473f-b5c1-363a7c330831",
   "metadata": {},
   "outputs": [],
   "source": [
    "# extract our y out\n",
    "y = df.iloc[:, 0]\n",
    "# get all other predictors\n",
    "X = df.iloc[:, 1:]\n",
    "# normalize them to have them in the same scale\n",
    "X = (X - np.mean(X, axis=0))/np.std(X, axis=0)\n",
    "# split our train-test set\n",
    "xTrain, xTest, yTrain, yTest = model_selection.train_test_split(X, y, test_size=0.2, random_state=0)"
   ]
  },
  {
   "cell_type": "code",
   "execution_count": 9,
   "id": "3994f3dd-1988-44c2-ba37-6f4f5783d4d1",
   "metadata": {},
   "outputs": [
    {
     "data": {
      "text/plain": [
       "0.8249436804817709"
      ]
     },
     "execution_count": 9,
     "metadata": {},
     "output_type": "execute_result"
    }
   ],
   "source": [
    "# create a svm model\n",
    "svm = LinearSVC(C = 1, dual = False)\n",
    "clf = CalibratedClassifierCV(svm) \n",
    "clf.fit(xTrain, yTrain)\n",
    "\n",
    "# validate our model using auc score\n",
    "pred = clf.predict_proba(xTest)[:, 1]\n",
    "svm_auc = metrics.roc_auc_score(yTest, pred)\n",
    "svm_auc"
   ]
  },
  {
   "cell_type": "code",
   "execution_count": null,
   "id": "bbc95e03-e8e8-4543-9eca-a94636a8e758",
   "metadata": {},
   "outputs": [],
   "source": []
  }
 ],
 "metadata": {
  "kernelspec": {
   "display_name": "Python 3 (ipykernel)",
   "language": "python",
   "name": "python3"
  },
  "language_info": {
   "codemirror_mode": {
    "name": "ipython",
    "version": 3
   },
   "file_extension": ".py",
   "mimetype": "text/x-python",
   "name": "python",
   "nbconvert_exporter": "python",
   "pygments_lexer": "ipython3",
   "version": "3.8.12"
  }
 },
 "nbformat": 4,
 "nbformat_minor": 5
}

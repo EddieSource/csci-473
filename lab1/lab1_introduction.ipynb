{
 "cells": [
  {
   "cell_type": "markdown",
   "metadata": {},
   "source": [
    "# Introduction to Machine Learning (CSCI-UA.473)\n",
    "\n",
    "## Lab 1: Introduction\n",
    "### Date: September 16th, 2021"
   ]
  },
  {
   "cell_type": "markdown",
   "metadata": {},
   "source": [
    "# Importing packages\n",
    "\n",
    "We will first import some packages. An error importing one of these means you do not have it downloaded or it is not downloaded in the correct place. To install a package you can run:\n",
    "\n",
    "* If you are using pip3: ```pip3 install your_package_name```\n",
    "\n",
    "* If you are using conda: ```conda install your_package_name```"
   ]
  },
  {
   "cell_type": "code",
   "execution_count": null,
   "metadata": {},
   "outputs": [],
   "source": [
    "# Numerical/scientific computing packages.\n",
    "import numpy\n",
    "import scipy\n",
    "\n",
    "# Machine learning package.\n",
    "import sklearn\n",
    "\n",
    "# For computing gradients.\n",
    "import autograd.numpy as np\n",
    "from autograd import grad\n",
    "\n",
    "# Useful for saving our models.\n",
    "import pickle\n",
    "\n",
    "# Plotting packages.\n",
    "import matplotlib\n",
    "import matplotlib.pyplot as plt\n",
    "from matplotlib import cm\n",
    "from mpl_toolkits.mplot3d import Axes3D\n",
    "\n",
    "# Sets the matplotlib backend for the notebook.\n",
    "# sets the backend of matplotlib to the 'inline' backend: \n",
    "# With this backend, the output of plotting commands is \n",
    "# displayed inline within the Jupyter notebook, \n",
    "# directly below the code cell that produced it\n",
    "%matplotlib inline \n",
    "\n",
    "print('Finished successfully loading packages')\n"
   ]
  },
  {
   "cell_type": "markdown",
   "metadata": {},
   "source": [
    "# Checking the version of the packages\n",
    "\n",
    "Sometimes we will need specific versions of a package so that all of our code is compatible. You can check which version you have installed below, but usually the latest version will be fine."
   ]
  },
  {
   "cell_type": "code",
   "execution_count": null,
   "metadata": {},
   "outputs": [],
   "source": [
    "numpy.__version__"
   ]
  },
  {
   "cell_type": "code",
   "execution_count": null,
   "metadata": {},
   "outputs": [],
   "source": [
    "scipy.__version__"
   ]
  },
  {
   "cell_type": "code",
   "execution_count": null,
   "metadata": {},
   "outputs": [],
   "source": [
    "sklearn.__version__"
   ]
  },
  {
   "cell_type": "code",
   "execution_count": null,
   "metadata": {},
   "outputs": [],
   "source": [
    "matplotlib.__version__"
   ]
  },
  {
   "cell_type": "code",
   "execution_count": null,
   "metadata": {},
   "outputs": [],
   "source": [
    "pickle.format_version"
   ]
  },
  {
   "cell_type": "markdown",
   "metadata": {},
   "source": [
    "# Using Numpy\n",
    "\n",
    "Numpy contains many useful functions for doing numerical operations on vectors and matrices.  The fundamental object here is the numpy array."
   ]
  },
  {
   "cell_type": "markdown",
   "metadata": {},
   "source": [
    "## Matrix and vector operations"
   ]
  },
  {
   "cell_type": "code",
   "execution_count": null,
   "metadata": {},
   "outputs": [],
   "source": [
    "# Vectors are represented by 1-D numpy arrays.\n",
    "\n",
    "x = np.array([1, 0])\n",
    "print('x = ', x)"
   ]
  },
  {
   "cell_type": "code",
   "execution_count": null,
   "metadata": {},
   "outputs": [],
   "source": [
    "# Matrices are represented by 2-D numpy arrays.\n",
    "\n",
    "A = np.asarray([[1, 2], [3, 4]])\n",
    "print('A = ', A)"
   ]
  },
  {
   "cell_type": "code",
   "execution_count": null,
   "metadata": {},
   "outputs": [],
   "source": [
    "# We can get the shape of the array with...\n",
    "print('A has shape ', A.shape)\n",
    "\n",
    "# We can also get a certain row or column with...\n",
    "print('First column of A = ', A[:,0])\n",
    "print('Second row of A = ', A[1,:])\n",
    "\n",
    "# It is also sometimes useful to reshape our data (for example when using sklearn later)\n",
    "print('A as a vector: ', A.reshape((4,)))"
   ]
  },
  {
   "cell_type": "code",
   "execution_count": null,
   "metadata": {},
   "outputs": [],
   "source": [
    "# Multiply the matrix and the vector.\n",
    "y1 = A.dot(x)\n",
    "print('y1 = ', y1)\n",
    "\n",
    "# Equivalently,\n",
    "y2 = A @ x\n",
    "print('y2 = ', y2)"
   ]
  },
  {
   "cell_type": "code",
   "execution_count": null,
   "metadata": {},
   "outputs": [],
   "source": [
    "# This is different from simply multiplying the two. \n",
    "# Note that since x has shape (2,) while A has shape (2,2), \n",
    "# x is copied twice to match A's shape before performing the operation\n",
    "y3 = A * x\n",
    "print('y3 = ', y3)\n",
    "\n",
    "# This is called \"broadcasting\", and the smaller array is “broadcast” across \n",
    "# the larger array so that they have compatible shapes. \n",
    "# Broadcasting provides a means of vectorizing array operations so that looping occurs in C instead of Python. \n",
    "a = np.array([1.0, 2.0, 3.0])\n",
    "b = 2.0\n",
    "print(\"a x b = \", a * b)"
   ]
  },
  {
   "cell_type": "code",
   "execution_count": null,
   "metadata": {},
   "outputs": [],
   "source": [
    "# Matrix multiplication AB.\n",
    "B = np.asarray([[5, 6], [7, 8]])\n",
    "C1 = np.matmul(A, B)\n",
    "print('C1 = ', C1)\n",
    "\n",
    "# Equivalently,\n",
    "C2 = A @ B\n",
    "print('C2 = ', C2)\n"
   ]
  },
  {
   "cell_type": "code",
   "execution_count": null,
   "metadata": {},
   "outputs": [],
   "source": [
    "# Initializing a random matrix of size 3 x 4\n",
    "R = np.random.rand(3,4)\n",
    "print('R = ', R)"
   ]
  },
  {
   "cell_type": "markdown",
   "metadata": {},
   "source": [
    "\n",
    "## Linear algebra in Numpy\n",
    "\n",
    "Numpy also contains many useful linear algebra functions for solving systems of equations, computing inverses, norms, eigenvalues, etc.  Below is an example where we use it to solve a system of linear equations $Ax = b$ for the vector $x$.\n",
    "\n",
    "$$\n",
    "\\begin{bmatrix}1 & 2 & 4 \\\\ -2 & 3 & 1 \\\\ -4 & 1 & 2\\end{bmatrix}\\begin{bmatrix}x_1 \\\\x_2 \\\\x_3 \\end{bmatrix} = \\begin{bmatrix}18 \\\\ 5 \\\\ 0\\end{bmatrix}\n",
    "$$"
   ]
  },
  {
   "cell_type": "code",
   "execution_count": null,
   "metadata": {},
   "outputs": [],
   "source": [
    "# Set up the equations.\n",
    "A = np.array([[1, 2, 4], [-2, 3, 1], [-4, 1, 2]])\n",
    "b = np.array([18, 5, 0])\n",
    "\n",
    "# Solve the system.\n",
    "x = np.linalg.solve(A, b)\n",
    "print('x = ', x)\n",
    "\n",
    "# Verify the solution by checking the residual is 0.\n",
    "r = A @ x - b\n",
    "print('r = ', r)"
   ]
  },
  {
   "cell_type": "markdown",
   "metadata": {},
   "source": [
    "We can also invert the matrix $A$ and then multiply, but this is usually a bad idea for bigger systems."
   ]
  },
  {
   "cell_type": "code",
   "execution_count": null,
   "metadata": {},
   "outputs": [],
   "source": [
    "A_inv = np.linalg.inv(A)\n",
    "\n",
    "x = A_inv @ b\n",
    "print('x = ', x)\n",
    "\n",
    "# Compute the Euclidean norm of the residual.  It should be 0.\n",
    "norm_r = np.linalg.norm(A @ x - b)\n",
    "print('norm_r = ', norm_r)"
   ]
  },
  {
   "cell_type": "markdown",
   "metadata": {},
   "source": [
    "# Using Matplotlib"
   ]
  },
  {
   "cell_type": "markdown",
   "metadata": {},
   "source": [
    "## Plotting functions.\n",
    "\n",
    "Matplotlib is convenient for plotting data and functions.  For example we can plot the function\n",
    "\n",
    "$$\n",
    "f(x) = \\sin(x)\n",
    "$$\n",
    "\n",
    "by evaluating it on a grid of points."
   ]
  },
  {
   "cell_type": "code",
   "execution_count": null,
   "metadata": {},
   "outputs": [],
   "source": [
    "# Define the function.\n",
    "f = lambda x: np.sin(x)\n",
    "\n",
    "# Get the points we will plot.\n",
    "x = np.linspace(0, 2*np.pi, 100) # 100 evenly spaced points between 0 and 2pi.\n",
    "\n",
    "# Now plot the results.\n",
    "plt.figure(1)\n",
    "plt.plot(x, f(x), 'b-', label = r'sine')\n",
    "plt.xlabel(r'$x$')\n",
    "plt.ylabel(r'$\\sin(x)$')\n",
    "plt.title(r'The sine function')\n",
    "plt.legend();"
   ]
  },
  {
   "cell_type": "markdown",
   "metadata": {},
   "source": [
    "## Surface plots.\n",
    "\n",
    "We can also plot surfaces, such as \n",
    "\n",
    "$$\n",
    "z(x,y) = x^2 + y^2\n",
    "$$"
   ]
  },
  {
   "cell_type": "code",
   "execution_count": null,
   "metadata": {
    "scrolled": true
   },
   "outputs": [],
   "source": [
    "# create the grid data for the plot along with z values at each point\n",
    "x, y = np.meshgrid(np.arange(-7, 7, 0.5), np.arange(-7, 7, 0.5))\n",
    "z = x**2 + y**2\n",
    "\n",
    "fig, ax = plt.subplots(subplot_kw={\"projection\": \"3d\"}, figsize=(8,8))\n",
    "surf = ax.plot_surface(x, y, z, cmap = cm.coolwarm)\n",
    "ax.set_xlabel('x')\n",
    "ax.set_ylabel('y')\n",
    "ax.set_zlabel('z')\n",
    "plt.title(r'Sphere Function: $z = x^2 + y^2$');"
   ]
  },
  {
   "cell_type": "markdown",
   "metadata": {},
   "source": [
    "# Image as data\n",
    "We will now load some image data as a numpy array and play around with it including displaying it and doing some exploratory data analysis. We'll show how to use standard Python libraries to visualize and distort images, switch between matrix and vector representations. We will use the CIFAR-10 object recognition data set as an example."
   ]
  },
  {
   "cell_type": "markdown",
   "metadata": {},
   "source": [
    "## Visualize random matrices as images\n",
    "\n",
    "Before looking at real data, let us introduce the basic image data construct in Python. A color image is generally a 3-dimensional array with dimensions: NxMx3. The last dimension is the color channel, and the first two represent the X and Y grid of the image. The values are typically integer-valued pixel intensities for each color channel, with values between 0 and 255. The first thing we'll do is generate a random image and look at it."
   ]
  },
  {
   "cell_type": "code",
   "execution_count": null,
   "metadata": {},
   "outputs": [],
   "source": [
    "# Move this to after matplotlib part\n",
    "# generate a 3-dimensional random array of integers in the range of [0,255]\n",
    "x = 256\n",
    "y = 256\n",
    "d = 3\n",
    "\n",
    "rand_img = np.random.randint(0, 256, size=(x, y, d), dtype='int')\n",
    "img = plt.imshow(rand_img, interpolation='nearest')"
   ]
  },
  {
   "cell_type": "markdown",
   "metadata": {},
   "source": [
    "## Visualize the CIFAR-10 dataset\n",
    "\n",
    "We now load the CIFAR data, convert it into a matrix, and visualize the results. The data can be downloaded from: https://www.cs.toronto.edu/~kriz/cifar-10-python.tar.gz"
   ]
  },
  {
   "cell_type": "code",
   "execution_count": null,
   "metadata": {},
   "outputs": [],
   "source": [
    "#Student: change the data directory to where you have the data\n",
    "data_dir = './cifar-10-batches-py/' # change the directory to where you will store the data\n",
    "cifar_data_file = data_dir + 'data_batch_1'\n",
    "\n",
    "def unpickle(file):\n",
    "    import pickle\n",
    "    with open(file, 'rb') as fo:\n",
    "        dict = pickle.load(fo, encoding='bytes')\n",
    "    return dict\n",
    "\n",
    "cifar_data = unpickle(cifar_data_file)\n",
    "images = cifar_data.get(b\"data\")\n",
    "images = images.reshape(10000, 3, 32, 32).transpose(0,2,3,1).astype(\"uint8\")"
   ]
  },
  {
   "cell_type": "code",
   "execution_count": null,
   "metadata": {},
   "outputs": [],
   "source": [
    "# loop over some random images and display them on the grid\n",
    "fig, axes1 = plt.subplots(5, 5, figsize=(10, 10))\n",
    "for j in range(5):\n",
    "    for k in range(5):\n",
    "        i = np.random.choice(range(len(images)))\n",
    "        axes1[j][k].set_axis_off()\n",
    "        axes1[j][k].imshow(images[i:i+1][0])"
   ]
  },
  {
   "cell_type": "markdown",
   "metadata": {},
   "source": [
    "# Using Pickle\n",
    "\n",
    "Pickle is a package for saving (serializing) Python objects and using them again later. This will be useful if we want to hold on to a model we have already trained since for many algorithms the training/learning phase is the most expensive.\n",
    "\n",
    "Below is a short demonstration for a dummy object."
   ]
  },
  {
   "cell_type": "code",
   "execution_count": null,
   "metadata": {},
   "outputs": [],
   "source": [
    "# Define some object.\n",
    "class foo:  \n",
    "    def __init__(self):\n",
    "        # Give it a random number.\n",
    "        self.a = np.random.rand()\n",
    "\n",
    "# Create the object.\n",
    "foo_1 = foo()\n",
    "print('Random number = ', foo_1.a)\n",
    "\n",
    "# Save the object.\n",
    "# The \"with\" statement ensures that resources are released afterwards (here: files are closed)\n",
    "fname = 'foo.p'\n",
    "with open(fname, 'wb') as fp:\n",
    "    pickle.dump(foo_1, fp)\n",
    "\n",
    "# Now load the object.\n",
    "with open(fname, 'rb') as fp:\n",
    "    foo_2 = pickle.load(fp)\n",
    "\n",
    "print('Should be the same random number = ', foo_2.a)"
   ]
  },
  {
   "cell_type": "markdown",
   "metadata": {},
   "source": [
    "# Using Sci-kit Learn\n",
    "\n",
    "Sci-kit learn is a Python package that contains many different machine learning algorithms."
   ]
  },
  {
   "cell_type": "markdown",
   "metadata": {},
   "source": [
    "## Linear regression \n",
    "A toy example where we fit a linear regression model to some synthetic data."
   ]
  },
  {
   "cell_type": "code",
   "execution_count": null,
   "metadata": {
    "scrolled": true
   },
   "outputs": [],
   "source": [
    "from sklearn.linear_model import LinearRegression\n",
    "\n",
    "# True function we want to approximate.\n",
    "f = lambda x: 1.5 * x + 0.5\n",
    "noise_level = 0.5\n",
    "# Generate some synthetic data.\n",
    "N = 15 # Number of data points.\n",
    "x = np.linspace(0, 1, N)\n",
    "y = f(x) + noise_level * np.random.randn(N) # Observations incorporate some random noise.\n",
    "\n",
    "\n",
    "# Now lets fit a linear regression model to our data.\n",
    "model = LinearRegression()\n",
    "model.fit(x.reshape(-1, 1), y.reshape(-1, 1))\n",
    "\n",
    "# Note that .reshape(-1, 1): The -1 means \"figure out what number is needed there\".\n",
    "# For example, in our case, the -1 becomes N because we have an array with N entries\n",
    "# Note that .reshape(-1, 1) is different from .reshape(-1, ). The first is a 2-dim array, the second a 1-dim array\n",
    "\n",
    "# Plot the fitted model with the truth and the observations.\n",
    "plt.figure(4)\n",
    "plt.scatter(x, y, label = 'Observations')\n",
    "plt.plot(x, f(x), 'r:', label = 'Truth', lw = 3)\n",
    "plt.plot(x, model.predict(x.reshape(-1, 1)), 'b-', label = 'Prediction')\n",
    "plt.xlabel(r'$x$')\n",
    "plt.ylabel(r'$f(x)$')\n",
    "plt.title(r'Observed Data and Fitted Model')\n",
    "plt.legend();"
   ]
  },
  {
   "cell_type": "code",
   "execution_count": null,
   "metadata": {},
   "outputs": [],
   "source": [
    "# Init data:\n",
    "x1 = np.array([10,8,13,9,11,14,6,4,12,7,5])\n",
    "x2 = np.copy(x1)\n",
    "x3 = np.copy(x1)\n",
    "x4 = np.array([8,8,8,8,8,8,8,19,8,8,8])\n",
    "y1 = np.array([8.04,6.95,7.58,8.81,8.33,9.96,7.24,4.26,10.84,4.82,5.68])\n",
    "y2 = np.array([9.14,8.14,8.74,8.77,9.26,8.1,6.13,3.1,9.13,7.26,4.74])\n",
    "y3 = np.array([7.46,6.77,12.74,7.11,7.81,8.84,6.08,5.39,8.15,6.42,5.73])\n",
    "y4 = np.array([6.58,5.76,7.71,8.84,8.47,7.04,5.25,12.5,5.56,7.91,6.89])\n",
    "\n",
    "# Plot data:\n",
    "plt.subplot(2,2,1)\n",
    "plt.plot(x1,y1,'o')\n",
    "model = LinearRegression().fit(x1.reshape(-1,1),y1.reshape(-1,1))\n",
    "xVals = np.linspace(4,14,101)\n",
    "regressLine = model.coef_ * xVals + model.intercept_\n",
    "rSqr = model.score(x1.reshape(-1,1),y1.reshape(-1,1))\n",
    "plt.plot(xVals,regressLine.flatten())\n",
    "plt.title('B0 = {:.0f}'.format(model.intercept_[0]) + ', B1 = {:.1f}'.format(model.coef_[0][0]) + ', R^2 = {:.2f}'.format(rSqr))\n",
    "plt.tight_layout()\n",
    "\n",
    "plt.subplot(2,2,2)\n",
    "plt.plot(x2,y2,'o')\n",
    "model = LinearRegression().fit(x2.reshape(-1,1),y2.reshape(-1,1))\n",
    "xVals = np.linspace(4,14,101)\n",
    "regressLine = model.coef_ * xVals + model.intercept_\n",
    "rSqr = model.score(x2.reshape(-1,1),y2.reshape(-1,1))\n",
    "plt.plot(xVals,regressLine.flatten())\n",
    "plt.title('B0 = {:.0f}'.format(model.intercept_[0]) + ', B1 = {:.1f}'.format(model.coef_[0][0]) + ', R^2 = {:.2f}'.format(0.67))\n",
    "plt.tight_layout()\n",
    "\n",
    "plt.subplot(2,2,3)\n",
    "plt.plot(x3,y3,'o')\n",
    "model = LinearRegression().fit(x3.reshape(-1,1),y3.reshape(-1,1))\n",
    "xVals = np.linspace(4,14,101)\n",
    "regressLine = model.coef_ * xVals + model.intercept_\n",
    "rSqr = model.score(x3.reshape(-1,1),y3.reshape(-1,1))\n",
    "plt.plot(xVals,regressLine.flatten())\n",
    "plt.title('B0 = {:.0f}'.format(model.intercept_[0]) + ', B1 = {:.1f}'.format(model.coef_[0][0]) + ', R^2 = {:.2f}'.format(0.67))\n",
    "plt.tight_layout()\n",
    "\n",
    "plt.subplot(2,2,4)\n",
    "plt.plot(x4,y4,'o')\n",
    "model = LinearRegression().fit(x4.reshape(-1,1),y4.reshape(-1,1))\n",
    "xVals = np.linspace(8,19,101)\n",
    "regressLine = model.coef_ * xVals + model.intercept_\n",
    "rSqr = model.score(x4.reshape(-1,1),y4.reshape(-1,1))\n",
    "plt.plot(xVals,regressLine.flatten())\n",
    "plt.title('B0 = {:.0f}'.format(model.intercept_[0]) + ', B1 = {:.1f}'.format(model.coef_[0][0]) + ', R^2 = {:.2f}'.format(0.67))\n",
    "plt.tight_layout()"
   ]
  },
  {
   "cell_type": "markdown",
   "metadata": {},
   "source": [
    "## Linear regression with multiple features\n",
    "An example where we fit a linear regression model to some real dataset having multiple input features."
   ]
  },
  {
   "cell_type": "code",
   "execution_count": null,
   "metadata": {},
   "outputs": [],
   "source": [
    "from sklearn import datasets\n",
    "import pandas as pd\n",
    "# Load data:\n",
    "data = np.genfromtxt('housingsata.csv', delimiter=',')\n",
    "print(data.shape)\n",
    "\n",
    "X, y = data[:,:4], data[:,4]"
   ]
  },
  {
   "cell_type": "markdown",
   "metadata": {},
   "source": [
    "## But first... as we saw earlier, it is always a good idea to see what our data looks like. Particularly when dealing with real world datasets - Exploratory Data Analysis"
   ]
  },
  {
   "cell_type": "code",
   "execution_count": null,
   "metadata": {},
   "outputs": [],
   "source": [
    "# Histograms\n",
    "fig, axs = plt.subplots(1, 1, sharey=True, tight_layout=True)\n",
    "axs.hist(X[:,0], bins=None)"
   ]
  },
  {
   "cell_type": "code",
   "execution_count": null,
   "metadata": {},
   "outputs": [],
   "source": [
    "# Scatter plots\n",
    "df = pd.DataFrame(data)\n",
    "pd.plotting.scatter_matrix(df)\n"
   ]
  },
  {
   "cell_type": "code",
   "execution_count": null,
   "metadata": {},
   "outputs": [],
   "source": [
    "# # Model: Size (in sq ft)\n",
    "print(X[:,:1].shape, y.shape)\n",
    "model = LinearRegression().fit(X[:,:1],y)\n",
    "rSqr = model.score(X[:,:1],y)\n",
    "print(rSqr)\n",
    "\n",
    "# Visualize: actual vs. predicted income (from model)\n",
    "yHat = model.predict(X[:,:1])\n",
    "plt.plot(yHat,y,'o',markersize=.75) \n",
    "plt.xlabel('Prediction from model') \n",
    "plt.ylabel('Actual income')  \n",
    "plt.title('R^2 = {:.3f}'.format(rSqr))"
   ]
  },
  {
   "cell_type": "code",
   "execution_count": null,
   "metadata": {},
   "outputs": [],
   "source": [
    "# Model: Size (in sq ft) and Age (in years)\n",
    "model = LinearRegression().fit(X[:,:2],y)\n",
    "rSqr = model.score(X[:,:2],y)\n",
    "print(rSqr)\n",
    "\n",
    "# Visualize: actual vs. predicted income (from model)\n",
    "yHat = model.predict(X[:,:2])\n",
    "plt.plot(yHat,y,'o',markersize=.75) \n",
    "plt.xlabel('Prediction from model') \n",
    "plt.ylabel('Actual income')  \n",
    "plt.title('R^2 = {:.3f}'.format(rSqr))"
   ]
  },
  {
   "cell_type": "code",
   "execution_count": null,
   "metadata": {},
   "outputs": [],
   "source": [
    "# Model: Size (in sq ft), Age (in years) and Has a pool? (Yes/No)\n",
    "\n",
    "model = LinearRegression().fit(X[:,:3],y)\n",
    "rSqr = model.score(X[:,:3],y)\n",
    "print(rSqr)\n",
    "\n",
    "# Visualize: actual vs. predicted income (from model)\n",
    "yHat = model.predict(X[:,:3])\n",
    "plt.plot(yHat,y,'o',markersize=.75) \n",
    "plt.xlabel('Prediction from model') \n",
    "plt.ylabel('Actual income')  \n",
    "plt.title('R^2 = {:.3f}'.format(rSqr))"
   ]
  },
  {
   "cell_type": "code",
   "execution_count": null,
   "metadata": {
    "scrolled": true
   },
   "outputs": [],
   "source": [
    "# Model: Using all features now\n",
    "\n",
    "model = LinearRegression().fit(X,y)\n",
    "rSqr = model.score(X,y)\n",
    "print(rSqr)\n",
    "\n",
    "\n",
    "b0, b1 = model.intercept_, model.coef_\n",
    "\n",
    "# Visualize: actual vs. predicted income (from model)\n",
    "yHat = model.predict(X)\n",
    "plt.plot(yHat,y,'o',markersize=.75) \n",
    "plt.xlabel('Prediction from model') \n",
    "plt.ylabel('Actual income')  \n",
    "plt.title('R^2 = {:.3f}'.format(rSqr))"
   ]
  },
  {
   "cell_type": "markdown",
   "metadata": {},
   "source": [
    "## Now lets try understanding the least squares regression from a linear algebra perspective"
   ]
  },
  {
   "cell_type": "code",
   "execution_count": null,
   "metadata": {},
   "outputs": [],
   "source": [
    "#Before we go into the details of this, recall the principles of vector projection from the lecture:\n",
    "vec1 = np.array([0,0.5]) #Vector 1\n",
    "vec2 = np.array([1,1]) #Vector 2\n",
    "magVec1 = np.sqrt(vec1[0]**2 + vec1[1]**2) #Magnitude of vector 1\n",
    "magVec2 = np.sqrt(vec2[0]**2 + vec2[1]**2) #Magnitude of vector 2 \n",
    "dotProduct = np.dot(vec1,vec2) # Using a function to get the dot product \n",
    "angleBetween = np.degrees(np.arccos(dotProduct/(magVec1*magVec2))) #What is the angle between the vectors?\n",
    "uVec = vec2/magVec2 # Creating a unit vector out of vec2 by dividing by magnitude\n",
    "\n",
    "p = magVec1 * np.cos(np.deg2rad(angleBetween)) # The projection direction\n",
    "projVec = p * uVec # That's the actual projected vector, yielded by p multiplied with the unit vector\n",
    "plt.plot([0,vec1[0]],[0,vec1[1]],color='purple',linewidth=2) # Plot vec1 in purple\n",
    "plt.plot([0,uVec[0]],[0,uVec[1]],color='blue',linewidth=2) # Plot uVec in blue\n",
    "plt.plot([0,projVec[0]],[0,projVec[1]],color='red',linewidth=2) # Plot the projection of vec1 onto vec2 in red\n",
    "plt.axis('equal') #Make sure aspect ratio is the same"
   ]
  },
  {
   "cell_type": "code",
   "execution_count": null,
   "metadata": {},
   "outputs": [],
   "source": [
    "# Now lets use the geometric interpretation seen in the lectures to our housing dataset\n",
    "# To make things easily visualised we will use only a subset of our dataset\n",
    "X_sub = X[:3, 0]\n",
    "y_sub = y[:3]/1e3\n",
    "\n",
    "fig = plt.figure() # init figure\n",
    "ax = fig.gca(projection='3d') # project into 3d space\n",
    "\n",
    "ax.plot3D([0,X_sub[0]],[0,X_sub[1]],[0,X_sub[2]],color='blue',linewidth=2) \n",
    "ax.plot3D([0,y_sub[0]],[0,y_sub[1]],[0,y_sub[2]],color='green',linewidth=2) \n",
    "plt.legend(['Size (in sq ft)','Price (in \\$)']) \n",
    "ax.set_xlabel('House 1') \n",
    "ax.set_ylabel('House 2') \n",
    "ax.set_zlabel('House 3') "
   ]
  },
  {
   "cell_type": "code",
   "execution_count": null,
   "metadata": {},
   "outputs": [],
   "source": [
    "#%% Now, let's actually use the formula we derived\n",
    "# We use the projection formula to find beta to minimize the distance\n",
    "# between beta*input and output. Output = beta*input + error\n",
    "\n",
    "beta = np.dot(y_sub,X_sub)/np.dot(X_sub,X_sub) # Find the beta\n",
    "prediction = beta * X_sub # Make a prediction (simplest possible)\n",
    "\n",
    "# Add this to the plot - the plot thickens:\n",
    "fig = plt.figure() # init figure\n",
    "ax = fig.gca(projection='3d') # project into 3d space\n",
    "ax.plot3D([0,X_sub[0]],[0,X_sub[1]],[0,X_sub[2]],color='blue',linewidth=2) \n",
    "ax.plot3D([0,y_sub[0]],[0,y_sub[1]],[0,y_sub[2]],color='green',linewidth=2) \n",
    "ax.plot3D([0,prediction[0]],[0,prediction[1]],[0,prediction[2]],color='lime',linewidth=2,linestyle='dotted') \n",
    "plt.legend(['Size (in sq ft)','Price (in \\$)','Prediction']) \n",
    "ax.set_xlabel('House 1') \n",
    "ax.set_ylabel('House 2') \n",
    "ax.set_zlabel('House 3') "
   ]
  },
  {
   "cell_type": "code",
   "execution_count": null,
   "metadata": {},
   "outputs": [],
   "source": [
    "#%% Let's explicitly add the distance between the two (prediction and outcome)\n",
    "\n",
    "fig = plt.figure() # init figure\n",
    "ax = fig.gca(projection='3d') # project into 3d space\n",
    "ax.plot3D([0, X_sub[0]],[0,X_sub[1]],[0,X_sub[2]],color='blue',linewidth=2) \n",
    "ax.plot3D([0,y_sub[0]],[0,y_sub[1]],[0,y_sub[2]],color='green',linewidth=2) \n",
    "ax.plot3D([0,prediction[0]],[0,prediction[1]],[0,prediction[2]],color='lime',linewidth=2,linestyle='dotted')\n",
    "ax.plot3D([y_sub[0],prediction[0]],[y_sub[1],prediction[1]],[y_sub[2],prediction[2]],color='red',linewidth=2)  \n",
    "plt.legend(['Size (in sq ft)','Price','Prediction','Error']) \n",
    "ax.set_xlabel('Trial 1') \n",
    "ax.set_ylabel('Trial 2') \n",
    "ax.set_zlabel('Trial 3') "
   ]
  },
  {
   "cell_type": "code",
   "execution_count": null,
   "metadata": {},
   "outputs": [],
   "source": [
    "#%% Now that we convinced ourselves that this is in fact the correct beta (geometrically)\n",
    "# we can go back and plot the solution\n",
    "# We could open the old figure again, but let's start from scratch\n",
    "# What if we had 30 houses?\n",
    "maxArea = 4000\n",
    "X_sub = X[:30, 0] \n",
    "y_sub = y[:30]/1e3\n",
    "beta = np.dot(y_sub,X_sub)/np.dot(X_sub,X_sub) # Find the beta\n",
    "prediction = beta * X_sub # Make a prediction (simplest possible)\n",
    "regressionLineX = np.linspace(0,maxArea,10) # Gives us 10 equally spaced numbers between 0 and 4000. Intrapolation, x-base\n",
    "regressionLineY = beta * regressionLineX # Find the ys of the regression line\n",
    "plt.plot(X_sub,y_sub,'o',markersize=5) # Plot the data\n",
    "plt.plot(regressionLineX,regressionLineY,color='black') # Plot regression line\n",
    "plt.plot([X_sub,X_sub],[prediction,y_sub],color='red') # Residuals"
   ]
  },
  {
   "cell_type": "code",
   "execution_count": null,
   "metadata": {},
   "outputs": [],
   "source": [
    "startExploration = beta - 2\n",
    "endExploration = beta + 2\n",
    "numBeta = 200\n",
    "testBetas = np.linspace(startExploration,endExploration,numBeta)\n",
    "distanceSum = np.empty([numBeta,4]) # Init container\n",
    "distanceSum[:] = np.NaN # Convert to NaN\n",
    "\n",
    "for ii in range(numBeta):\n",
    "    prediction = testBetas[ii] * X_sub\n",
    "    distanceSum[ii,0] = sum(prediction-y_sub) # Simple\n",
    "    distanceSum[ii,1] = sum((prediction-y_sub)**2) # Sum of squares\n",
    "    distanceSum[ii,2] = sum(abs(prediction-y_sub)) # Absolute value\n",
    "    distanceSum[ii,3] = sum(np.log(1 + (prediction-y_sub)**2)) # Lorentzian\n",
    "\n",
    "for ii in range(int(np.size(distanceSum)/len(distanceSum))):\n",
    "    plt.subplot(2,2,ii+1)\n",
    "    plt.plot(testBetas,distanceSum[:,ii])\n",
    "    if ii == 0:\n",
    "        plt.title('Summed differences')\n",
    "    elif ii == 1:\n",
    "        plt.title('Sum of square differences')\n",
    "    elif ii == 2:\n",
    "        plt.title('Sum of absolute differences')\n",
    "    else:\n",
    "        plt.title('Lorentzian')"
   ]
  },
  {
   "cell_type": "code",
   "execution_count": null,
   "metadata": {},
   "outputs": [],
   "source": []
  }
 ],
 "metadata": {
  "kernelspec": {
   "display_name": "Python 3 (ipykernel)",
   "language": "python",
   "name": "python3"
  },
  "language_info": {
   "codemirror_mode": {
    "name": "ipython",
    "version": 3
   },
   "file_extension": ".py",
   "mimetype": "text/x-python",
   "name": "python",
   "nbconvert_exporter": "python",
   "pygments_lexer": "ipython3",
   "version": "3.9.7"
  }
 },
 "nbformat": 4,
 "nbformat_minor": 2
}

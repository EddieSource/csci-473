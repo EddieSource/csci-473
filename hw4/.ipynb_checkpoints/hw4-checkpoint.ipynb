{
 "cells": [
  {
   "cell_type": "code",
   "execution_count": 205,
   "metadata": {},
   "outputs": [],
   "source": [
    "import torch\n",
    "import torch.nn as nn\n",
    "import torch.nn.functional as F\n",
    "import torch.optim as optim\n",
    "from torchvision import datasets, transforms\n",
    "import matplotlib.pyplot as plt\n",
    "import numpy as np\n",
    "import pandas as pd\n",
    "from sklearn import metrics\n",
    "from sklearn import model_selection\n",
    "from IPython import display\n",
    "\n",
    "device = torch.device(\"cuda:0\" if torch.cuda.is_available() else \"cpu\")"
   ]
  },
  {
   "cell_type": "markdown",
   "metadata": {},
   "source": [
    "## Import data for question 1-5"
   ]
  },
  {
   "cell_type": "code",
   "execution_count": 206,
   "metadata": {},
   "outputs": [
    {
     "name": "stdout",
     "output_type": "stream",
     "text": [
      "['Diabetes', 'HighBP', 'HighChol', 'BMI', 'Smoker', 'Stroke', 'Myocardial', 'PhysActivity', 'Fruit', 'Vegetables', 'HeavyDrinker', 'HasHealthcare', 'NotAbleToAffordDoctor', 'GeneralHealth', 'MentalHealth', 'PhysicalHealth', 'HardToClimbStairs', 'BiologicalSex', 'AgeBracket', 'EducationBracket', 'IncomeBracket', 'Zodiac']\n"
     ]
    }
   ],
   "source": [
    "# import data\n",
    "df = pd.read_csv(\"diabetes.csv\")\n",
    "cols = df.columns.tolist()\n",
    "print(cols)"
   ]
  },
  {
   "cell_type": "markdown",
   "metadata": {},
   "source": [
    "## Data preprocessing for question 1-3"
   ]
  },
  {
   "cell_type": "code",
   "execution_count": 386,
   "metadata": {},
   "outputs": [],
   "source": [
    "# extract our y out\n",
    "y = df.iloc[:, 0]\n",
    "# get all other predictors\n",
    "X = df.iloc[:, 1:]\n",
    "# normalize them to have them in the same scale\n",
    "X = (X - np.mean(X, axis=0))/np.std(X, axis=0)\n",
    "# split our train-test set\n",
    "xTrain, xTest, yTrain, yTest = model_selection.train_test_split(X, y, test_size=0.2, random_state=0)"
   ]
  },
  {
   "cell_type": "code",
   "execution_count": 387,
   "metadata": {},
   "outputs": [
    {
     "name": "stdout",
     "output_type": "stream",
     "text": [
      "torch.Size([202944, 21]) torch.Size([50736, 21]) torch.Size([202944]) torch.Size([50736])\n"
     ]
    }
   ],
   "source": [
    "xTrain = (xTrain.to_numpy())\n",
    "xTest = (xTest.to_numpy())\n",
    "yTrain = (yTrain.to_numpy())\n",
    "yTest = (yTest.to_numpy())\n",
    "xTrain, xTest, yTrain, yTest = torch.from_numpy(xTrain), torch.from_numpy(xTest),torch.from_numpy(yTrain),torch.from_numpy(yTest)\n",
    "print(xTrain.shape, xTest.shape, yTrain.shape, yTest.shape)\n",
    "\n",
    "\n",
    "# transfer train data to dataset\n",
    "train_dataset = torch.utils.data.TensorDataset(xTrain, yTrain)\n",
    "test_dataset = torch.utils.data.TensorDataset(xTest, yTest)\n",
    "\n",
    "# batch size helps us avoid noise gradient due to training one epoch on small data\n",
    "train_loader = torch.utils.data.DataLoader(\n",
    "    dataset = train_dataset,\n",
    "    batch_size=64, shuffle=True)\n",
    "\n",
    "test_loader = torch.utils.data.DataLoader(\n",
    "    dataset = test_dataset,\n",
    "    batch_size=64, shuffle=True)"
   ]
  },
  {
   "cell_type": "markdown",
   "metadata": {},
   "source": [
    "## train, test, and predict_proda function for Question 1-3"
   ]
  },
  {
   "cell_type": "code",
   "execution_count": 209,
   "metadata": {},
   "outputs": [],
   "source": [
    "## create train and test method\n",
    "## len(train_loader)\n",
    "def train(model, train_loader, optimizer):\n",
    "    model.train()\n",
    "    # this variable will give the final train_loss of the last batch\n",
    "    train_loss = 0\n",
    "    for batch_idx, (data, target) in enumerate(train_loader):\n",
    "        # send data to device, where the \"device\" is either a GPU if it exists or a CPU\n",
    "        data, target = data.to(device), target.to(device)\n",
    "        \n",
    "        # set each nueron gradient to zero\n",
    "        optimizer.zero_grad()\n",
    "        \n",
    "        # forward pass through the model\n",
    "        data = data.float()\n",
    "        output = model(data)\n",
    "        \n",
    "        target = target.long()\n",
    "        # forward pass through the cross-entropy loss function\n",
    "        # this by default will give us mean loss of each batch\n",
    "        loss = F.nll_loss(output, target)\n",
    "        train_loss += loss.item()\n",
    "        \n",
    "        # backward pass through the cross-entropy loss function and the model\n",
    "        loss.backward()\n",
    "        \n",
    "        # really step toward that direction\n",
    "        optimizer.step()\n",
    "    \n",
    "    # this will give us mean loss per epoch\n",
    "    train_loss /= len(train_loader)\n",
    "    return train_loss\n",
    "            \n",
    "def test(model, test_loader, optimizer):\n",
    "    model.eval()\n",
    "    test_loss = 0\n",
    "    correct = 0\n",
    "    # don't want to calculate grad when testing\n",
    "    with torch.no_grad():\n",
    "        ## unit is batchsize\n",
    "        for data, target in test_loader:\n",
    "            # send data to device, where the \"device\" is either a GPU if it exists or a CPU\n",
    "            data, target = data.to(device), target.to(device)\n",
    "            \n",
    "            data = data.float()\n",
    "            output = model(data)\n",
    "            \n",
    "            target = target.long()\n",
    "            test_loss += F.nll_loss(output, target, reduction='sum').item() # sum up batch loss                                                               \n",
    "            \n",
    "            # data.max will return a list and 0 stands for the max value and 1 stands for the index\n",
    "            pred = output.data.max(1, keepdim=True)[1] # get the index of the max log-probability                                                                 \n",
    "            \n",
    "            # collect the correct classifcation\n",
    "            correct += pred.eq(target.data.view_as(pred)).cpu().sum().item()\n",
    "        \n",
    "        # mean test_loss of the whole epoch\n",
    "        test_loss /= len(test_loader.dataset)\n",
    "        # accuracy of the whole epoch\n",
    "        accuracy = 100. * correct / len(test_loader.dataset)\n",
    "    \n",
    "    # finally it gives mean test_loss of this epoch and accuracy \n",
    "    return test_loss, accuracy\n",
    "\n",
    "def predict_proba(model, xTest):\n",
    "    xTest = xTest.float()\n",
    "    output = model(xTest)\n",
    "    # apply the exponential on logsoftmax\n",
    "    # transfer the output from back to (0,1) probability space\n",
    "    output = np.exp(output.data.cpu().numpy())\n",
    "    return output"
   ]
  },
  {
   "cell_type": "markdown",
   "metadata": {},
   "source": [
    "## nueral network classes for Question 1-3"
   ]
  },
  {
   "cell_type": "code",
   "execution_count": 210,
   "metadata": {},
   "outputs": [],
   "source": [
    "class Perceptron(nn.Module):\n",
    "    def __init__(self, input_size, output_size):\n",
    "        super(Perceptron, self).__init__()\n",
    "        self.input_size = input_size\n",
    "        self.network = nn.Sequential(\n",
    "            nn.Linear(input_size, output_size),  \n",
    "            nn.LogSoftmax(dim=1) # prevent overflow\n",
    "#             nn.Softmax(dim=1)\n",
    "        )\n",
    "    \n",
    "    def forward(self, x):\n",
    "        x = x.view(-1, self.input_size)        \n",
    "        return self.network(x)"
   ]
  },
  {
   "cell_type": "code",
   "execution_count": 385,
   "metadata": {},
   "outputs": [],
   "source": [
    "# FC Layer with 1 layer\n",
    "class FC1Layer(nn.Module):\n",
    "    def __init__(self, input_size, n_hidden, output_size, function=\"reLU\"):\n",
    "        super(FC1Layer, self).__init__()\n",
    "        \n",
    "        self.input_size = input_size\n",
    "        self.function = function\n",
    "        \n",
    "        self.fc1 = nn.Linear(input_size, n_hidden)\n",
    "        \n",
    "        # output layer\n",
    "        self.op = nn.Linear(n_hidden, output_size)\n",
    "        \n",
    "    def forward(self, x):\n",
    "        # input layer\n",
    "        x = x.view(-1, self.input_size)\n",
    "        \n",
    "        # a hidden layer without activation functions\n",
    "        x = self.fc1(x)\n",
    "        \n",
    "        if self.function==\"sigmoid\": \n",
    "            x = F.sigmoid(x) \n",
    "        elif self.function==\"none\": \n",
    "            pass\n",
    "        else: \n",
    "            x = F.relu(x)\n",
    "        \n",
    "        # output layer\n",
    "        x = self.op(x)\n",
    "        \n",
    "        # use softmax if classifcation\n",
    "        x = F.log_softmax(x, dim=1)\n",
    "            \n",
    "        return x\n",
    "    \n",
    "# FC Layer with 2 layer without activation function in between\n",
    "class FC2Layer(nn.Module):\n",
    "    def __init__(self, input_size, n_hidden, output_size, function=\"reLU\"):\n",
    "        super(FC2Layer, self).__init__()\n",
    "        \n",
    "        self.input_size = input_size\n",
    "        self.function = function\n",
    "        \n",
    "        self.fc1 = nn.Linear(input_size, n_hidden)\n",
    "        self.fc2 = nn.Linear(n_hidden, n_hidden)\n",
    "        \n",
    "        # output layer\n",
    "        self.op = nn.Linear(n_hidden, output_size)\n",
    "        \n",
    "    def forward(self, x):\n",
    "        # input layer\n",
    "        x = x.view(-1, self.input_size)\n",
    "        \n",
    "        # hidden layers without activation functions\n",
    "        x = self.fc1(x)\n",
    "        x = self.fc2(x)\n",
    "        \n",
    "        if self.function==\"sigmoid\": \n",
    "            x = F.sigmoid(x) \n",
    "        elif self.function==\"none\": \n",
    "            pass\n",
    "        else: \n",
    "            x = F.relu(x)\n",
    "        \n",
    "        # output layer\n",
    "        x = self.op(x)\n",
    "        \n",
    "        # use softmax if classifcation\n",
    "        x = F.log_softmax(x, dim=1)\n",
    "            \n",
    "        return x\n",
    "\n",
    "# FC3 Layer with 2 layer without activation function in between\n",
    "class FC3Layer(nn.Module):\n",
    "    def __init__(self, input_size, n_hidden, output_size, function=\"reLU\"):\n",
    "        super(FC3Layer, self).__init__()\n",
    "        \n",
    "        self.input_size = input_size\n",
    "        self.function = function\n",
    "        \n",
    "        self.fc1 = nn.Linear(input_size, n_hidden)\n",
    "        self.fc2 = nn.Linear(n_hidden, n_hidden)\n",
    "        self.fc3 = nn.Linear(n_hidden, n_hidden)\n",
    "        \n",
    "        # output layer\n",
    "        self.op = nn.Linear(n_hidden, output_size)\n",
    "        \n",
    "    def forward(self, x):\n",
    "        # input layer\n",
    "        x = x.view(-1, self.input_size)\n",
    "        \n",
    "        # hidden layers without activation functions\n",
    "        x = self.fc1(x)\n",
    "        x = self.fc2(x)\n",
    "        x = self.fc3(x)\n",
    "        \n",
    "        if self.function==\"sigmoid\": \n",
    "            x = F.sigmoid(x) \n",
    "        elif self.function==\"none\": \n",
    "            pass\n",
    "        else: \n",
    "            x = F.relu(x)\n",
    "        \n",
    "        # output layer\n",
    "        x = self.op(x)\n",
    "        \n",
    "        # use softmax if classifcation\n",
    "        x = F.log_softmax(x, dim=1)\n",
    "            \n",
    "        return x\n"
   ]
  },
  {
   "cell_type": "code",
   "execution_count": 230,
   "metadata": {},
   "outputs": [],
   "source": [
    "# a deep network with 2 layers and activation function in between\n",
    "class DeepFCLayer(nn.Module):\n",
    "    def __init__(self, n_feature, n_hidden, n_output):\n",
    "        super(DeepFCLayer, self).__init__()\n",
    "        \n",
    "        self.n_feature = n_feature\n",
    "        \n",
    "        self.fc1 = nn.Linear(n_feature, n_hidden)\n",
    "        self.fc2 = nn.Linear(n_hidden, n_hidden)\n",
    "        \n",
    "        self.op = nn.Linear(n_hidden, n_output)\n",
    "\n",
    "    def forward(self, x):\n",
    "        # input layer\n",
    "        x = x.view(-1, self.n_feature)\n",
    "        \n",
    "        # 1st hidden layer\n",
    "        x = self.fc1(x)\n",
    "        x = F.relu(x)\n",
    "        \n",
    "        # 2nd hidden layer\n",
    "        x = self.fc2(x)\n",
    "        x = F.relu(x)\n",
    "        \n",
    "        # output layer\n",
    "        x = self.op(x)\n",
    "        \n",
    "        # use softmax if classifcation\n",
    "        x = F.log_softmax(x, dim=1)\n",
    "            \n",
    "        return x"
   ]
  },
  {
   "cell_type": "markdown",
   "metadata": {},
   "source": [
    "## Question 1"
   ]
  },
  {
   "cell_type": "code",
   "execution_count": 330,
   "metadata": {},
   "outputs": [
    {
     "name": "stdout",
     "output_type": "stream",
     "text": [
      "Epoch: 0\tTrain Loss: 0.333890\tTest Loss: 0.322137\tAccuracy: 86.165642%\n",
      "Epoch: 10\tTrain Loss: 0.320778\tTest Loss: 0.321779\tAccuracy: 86.256307%\n",
      "Epoch: 20\tTrain Loss: 0.320760\tTest Loss: 0.322216\tAccuracy: 86.240539%\n",
      "Epoch: 30\tTrain Loss: 0.320777\tTest Loss: 0.321739\tAccuracy: 86.234626%\n",
      "Epoch: 40\tTrain Loss: 0.320766\tTest Loss: 0.322833\tAccuracy: 86.193236%\n",
      "Epoch: 50\tTrain Loss: 0.320803\tTest Loss: 0.322189\tAccuracy: 86.252365%\n",
      "Epoch: 60\tTrain Loss: 0.320789\tTest Loss: 0.321758\tAccuracy: 86.222800%\n",
      "Epoch: 70\tTrain Loss: 0.320798\tTest Loss: 0.322157\tAccuracy: 86.260249%\n",
      "Epoch: 80\tTrain Loss: 0.320780\tTest Loss: 0.321857\tAccuracy: 86.214916%\n",
      "Epoch: 90\tTrain Loss: 0.320813\tTest Loss: 0.321616\tAccuracy: 86.224771%\n"
     ]
    }
   ],
   "source": [
    "# there are 21 columns\n",
    "input_size = 21\n",
    "\n",
    "# there are 2 classses 0 or 1\n",
    "output_size = 2\n",
    "\n",
    "perceptron_model = Perceptron(input_size, output_size)\n",
    "\n",
    "perceptron_model.to(device)\n",
    "# momentum helps us not trapped in local maxima\n",
    "optimizer = optim.SGD(perceptron_model.parameters(), lr=0.01, momentum=0.5)\n",
    "# print('Number of parameters: {}'.format(get_n_params(model_fnn)))\n",
    "\n",
    "## for each epoch\n",
    "for epoch in range(0, 100):\n",
    "    train_loss = train(perceptron_model, train_loader, optimizer)\n",
    "    test_loss, accuracy = test(perceptron_model, test_loader, optimizer)\n",
    "    if epoch % 10 == 0:\n",
    "        print('Epoch: {}\\tTrain Loss: {:.6f}\\tTest Loss: {:.6f}\\tAccuracy: {:.6f}%'.format(\n",
    "        epoch, train_loss, test_loss, accuracy))\n"
   ]
  },
  {
   "cell_type": "code",
   "execution_count": 376,
   "metadata": {},
   "outputs": [
    {
     "name": "stdout",
     "output_type": "stream",
     "text": [
      "perceptron auc: 0.8239011526760722\n"
     ]
    }
   ],
   "source": [
    "# calculate the probability of the model output\n",
    "yProb = predict_proba(perceptron_model, xTest)[:, 1]\n",
    "perceptron_auc = metrics.roc_auc_score(yTest, yProb)\n",
    "print(\"perceptron auc:\", perceptron_auc)"
   ]
  },
  {
   "cell_type": "code",
   "execution_count": 343,
   "metadata": {},
   "outputs": [
    {
     "data": {
      "image/png": "[encoded data removed]",
      "text/plain": [
       "<Figure size 432x288 with 1 Axes>"
      ]
     },
     "metadata": {
      "needs_background": "light"
     },
     "output_type": "display_data"
    }
   ],
   "source": [
    "fpr, tpr, thresholds = metrics.roc_curve(yTest, yProb)\n",
    "perceptron_auc = metrics.auc(fpr, tpr)\n",
    "plt.plot(fpr, tpr, 'k--', label='ROC (area = {0:.4f})'.format(perceptron_auc), lw=1)\n",
    "plt.xlabel('False Positive Rate')\n",
    "plt.ylabel('True Positive Rate')\n",
    "plt.title('Perceptron ROC Curve')\n",
    "plt.legend(loc=\"lower right\")\n",
    "plt.show()"
   ]
  },
  {
   "cell_type": "markdown",
   "metadata": {},
   "source": [
    "## Question 2"
   ]
  },
  {
   "cell_type": "code",
   "execution_count": 218,
   "metadata": {},
   "outputs": [
    {
     "name": "stdout",
     "output_type": "stream",
     "text": [
      "Epoch: 0\tTrain Loss: 0.330372\tTest Loss: 0.320217\tAccuracy: 85.931094%\n",
      "Epoch: 10\tTrain Loss: 0.313065\tTest Loss: 0.314428\tAccuracy: 86.561810%\n",
      "Epoch: 20\tTrain Loss: 0.312646\tTest Loss: 0.314248\tAccuracy: 86.589404%\n",
      "Epoch: 30\tTrain Loss: 0.312394\tTest Loss: 0.314042\tAccuracy: 86.599259%\n",
      "Epoch: 40\tTrain Loss: 0.312289\tTest Loss: 0.313766\tAccuracy: 86.559839%\n",
      "Epoch: 50\tTrain Loss: 0.312141\tTest Loss: 0.313769\tAccuracy: 86.569694%\n",
      "Epoch: 60\tTrain Loss: 0.312070\tTest Loss: 0.313626\tAccuracy: 86.577578%\n",
      "Epoch: 70\tTrain Loss: 0.312006\tTest Loss: 0.313735\tAccuracy: 86.585462%\n",
      "Epoch: 80\tTrain Loss: 0.311907\tTest Loss: 0.314167\tAccuracy: 86.553926%\n",
      "Epoch: 90\tTrain Loss: 0.311906\tTest Loss: 0.313662\tAccuracy: 86.577578%\n",
      "Epoch: 100\tTrain Loss: 0.311869\tTest Loss: 0.313567\tAccuracy: 86.567723%\n"
     ]
    },
    {
     "name": "stderr",
     "output_type": "stream",
     "text": [
      "/Users/xianhuizhu/opt/anaconda3/lib/python3.8/site-packages/torch/nn/functional.py:1639: UserWarning: nn.functional.sigmoid is deprecated. Use torch.sigmoid instead.\n",
      "  warnings.warn(\"nn.functional.sigmoid is deprecated. Use torch.sigmoid instead.\")\n",
      "/Users/xianhuizhu/opt/anaconda3/lib/python3.8/site-packages/torch/nn/functional.py:1639: UserWarning: nn.functional.sigmoid is deprecated. Use torch.sigmoid instead.\n",
      "  warnings.warn(\"nn.functional.sigmoid is deprecated. Use torch.sigmoid instead.\")\n",
      "/Users/xianhuizhu/opt/anaconda3/lib/python3.8/site-packages/torch/nn/functional.py:1639: UserWarning: nn.functional.sigmoid is deprecated. Use torch.sigmoid instead.\n",
      "  warnings.warn(\"nn.functional.sigmoid is deprecated. Use torch.sigmoid instead.\")\n"
     ]
    }
   ],
   "source": [
    "# there are 21 columns\n",
    "input_size = 21\n",
    "\n",
    "# there are 2 classses\n",
    "output_size = 2\n",
    "\n",
    "# models_relu contains 1,2,3 layer models with activation function relu()\n",
    "models_relu = list()\n",
    "models_relu.append(FC1Layer(input_size, 10, output_size))\n",
    "models_relu.append(FC2Layer(input_size, 10, output_size))\n",
    "models_relu.append(FC3Layer(input_size, 10, output_size))\n",
    "\n",
    "# models_sigmoid contains 1,2,3 layer models with activation function relu()\n",
    "models_sigmoid = list()\n",
    "models_sigmoid.append(FC1Layer(input_size, 10, output_size, function=\"sigmoid\"))\n",
    "models_sigmoid.append(FC2Layer(input_size, 10, output_size, function=\"sigmoid\"))\n",
    "models_sigmoid.append(FC3Layer(input_size, 10, output_size, function=\"sigmoid\"))\n",
    "\n",
    "# create the list of models_relu_auc\n",
    "models_relu_auc = [0] * 3\n",
    "for i in range(len(models_relu)): \n",
    "    model = models_relu[0]\n",
    "    model.to(device)\n",
    "    # momentum helps us not trapped in local maxima\n",
    "    optimizer = optim.SGD(model.parameters(), lr=0.01, momentum=0.5)\n",
    "\n",
    "    ## for each epoch\n",
    "    for epoch in range(0, 101):\n",
    "        train_loss = train(model, train_loader, optimizer)\n",
    "        test_loss, accuracy = test(model, test_loader, optimizer)\n",
    "        \n",
    "        # print the first model's output for example\n",
    "        if i == 0 and epoch % 10 == 0:\n",
    "            print('Epoch: {}\\tTrain Loss: {:.6f}\\tTest Loss: {:.6f}\\tAccuracy: {:.6f}%'.format(\n",
    "            epoch, train_loss, test_loss, accuracy))\n",
    "    \n",
    "    # compute the yProb for this model\n",
    "    yProb = predict_proba(model, xTest)[:, 1]\n",
    "    models_relu_auc[i] = metrics.roc_auc_score(yTest, yProb)\n",
    "    \n",
    "# create the list of models_sigmoid_auc\n",
    "models_sigmoid_auc = [0] * 3\n",
    "for i in range(len(models_sigmoid)): \n",
    "    model = models_sigmoid[0]\n",
    "    model.to(device)\n",
    "    # momentum helps us not trapped in local maxima\n",
    "    optimizer = optim.SGD(model.parameters(), lr=0.01, momentum=0.5)\n",
    "\n",
    "    ## for each epoch\n",
    "    for epoch in range(0, 101):\n",
    "        train_loss = train(model, train_loader, optimizer)\n",
    "        test_loss, accuracy = test(model, test_loader, optimizer)\n",
    "#         if epoch % 10 == 0:\n",
    "#             print('Epoch: {}\\tTrain Loss: {:.6f}\\tTest Loss: {:.6f}\\tAccuracy: {:.6f}%'.format(\n",
    "#             epoch, train_loss, test_loss, accuracy))\n",
    "    \n",
    "    # compute the yProb for this model\n",
    "    yProb = predict_proba(model, xTest)[:, 1]\n",
    "    models_sigmoid_auc[i] = metrics.roc_auc_score(yTest, yProb)"
   ]
  },
  {
   "cell_type": "code",
   "execution_count": 388,
   "metadata": {},
   "outputs": [
    {
     "name": "stdout",
     "output_type": "stream",
     "text": [
      "Epoch: 0\tTrain Loss: 0.327095\tTest Loss: 0.322189\tAccuracy: 86.293756%\n",
      "Epoch: 10\tTrain Loss: 0.320713\tTest Loss: 0.321661\tAccuracy: 86.315437%\n",
      "Epoch: 20\tTrain Loss: 0.320619\tTest Loss: 0.322139\tAccuracy: 86.240539%\n",
      "Epoch: 30\tTrain Loss: 0.320630\tTest Loss: 0.321709\tAccuracy: 86.248423%\n",
      "Epoch: 40\tTrain Loss: 0.320624\tTest Loss: 0.321817\tAccuracy: 86.240539%\n",
      "Epoch: 50\tTrain Loss: 0.320572\tTest Loss: 0.321646\tAccuracy: 86.250394%\n",
      "Epoch: 60\tTrain Loss: 0.320541\tTest Loss: 0.321970\tAccuracy: 86.246452%\n",
      "Epoch: 70\tTrain Loss: 0.320532\tTest Loss: 0.321791\tAccuracy: 86.238568%\n",
      "Epoch: 80\tTrain Loss: 0.320525\tTest Loss: 0.321609\tAccuracy: 86.277988%\n",
      "Epoch: 90\tTrain Loss: 0.320532\tTest Loss: 0.321738\tAccuracy: 86.252365%\n",
      "Epoch: 100\tTrain Loss: 0.320525\tTest Loss: 0.321585\tAccuracy: 86.281930%\n"
     ]
    }
   ],
   "source": [
    "# models_none contains 1,2,3 layer models with no activation function at all\n",
    "models_none = list()\n",
    "models_none.append(FC1Layer(input_size, 10, output_size, function = 'none'))\n",
    "models_none.append(FC2Layer(input_size, 10, output_size, function = 'none'))\n",
    "models_none.append(FC3Layer(input_size, 10, output_size, function = 'none'))\n",
    "models_none_auc = [0] * 3\n",
    "for i in range(len(models_none)): \n",
    "    model = models_none[0]\n",
    "    model.to(device)\n",
    "    # momentum helps us not trapped in local maxima\n",
    "    optimizer = optim.SGD(model.parameters(), lr=0.01, momentum=0.5)\n",
    "\n",
    "    ## for each epoch\n",
    "    for epoch in range(0, 101):\n",
    "        train_loss = train(model, train_loader, optimizer)\n",
    "        test_loss, accuracy = test(model, test_loader, optimizer)\n",
    "        \n",
    "        # print the first model's output for example\n",
    "        if i == 0 and epoch % 10 == 0:\n",
    "            print('Epoch: {}\\tTrain Loss: {:.6f}\\tTest Loss: {:.6f}\\tAccuracy: {:.6f}%'.format(\n",
    "            epoch, train_loss, test_loss, accuracy))\n",
    "    \n",
    "    # compute the yProb for this model\n",
    "    yProb = predict_proba(model, xTest)[:, 1]\n",
    "    models_none_auc[i] = metrics.roc_auc_score(yTest, yProb)"
   ]
  },
  {
   "cell_type": "code",
   "execution_count": 398,
   "metadata": {},
   "outputs": [
    {
     "name": "stdout",
     "output_type": "stream",
     "text": [
      "relu:  [0.8329807299477289, 0.8330695166958451, 0.8329082642344474]\n",
      "sigmoid:  [0.8324333069865579, 0.8328442003891718, 0.8326560759691999]\n",
      "none:  [0.8246734012773739, 0.824585873057078, 0.8244203049604077]\n"
     ]
    }
   ],
   "source": [
    "# x axis is the # of hidden layer\n",
    "# y axis is the relu or sigmoid\n",
    "# observe that there is not so much difference along x axis\n",
    "# slightly better using relu\n",
    "print(\"relu: \", models_relu_auc)\n",
    "print(\"sigmoid: \", models_sigmoid_auc)\n",
    "print(\"none: \", models_none_auc)"
   ]
  },
  {
   "cell_type": "code",
   "execution_count": 399,
   "metadata": {},
   "outputs": [
    {
     "data": {
      "text/plain": [
       "<matplotlib.legend.Legend at 0x7f9113300d00>"
      ]
     },
     "execution_count": 399,
     "metadata": {},
     "output_type": "execute_result"
    },
    {
     "data": {
      "image/png": "[encoded data removed]",
      "text/plain": [
       "<Figure size 432x288 with 1 Axes>"
      ]
     },
     "metadata": {
      "needs_background": "light"
     },
     "output_type": "display_data"
    }
   ],
   "source": [
    "layers = ['1','2','3']\n",
    "plt.bar([0.8,1.8,2.8], models_relu_auc, width = 0.2, label=\"relu\")\n",
    "plt.bar([1,2,3], models_sigmoid_auc, width = 0.2, alpha = 0.5, label=\"sigmoid\")\n",
    "plt.bar([1.2,2.2,3.2], models_none_auc, width = 0.2, alpha = 0.5, label=\"none\")\n",
    "plt.xticks([1,2,3], layers)\n",
    "plt.ylim(0.82, 0.835)\n",
    "plt.title('auc-layer of nueral network')\n",
    "plt.xlabel('layers')\n",
    "plt.ylabel('auc')\n",
    "plt.legend(loc=2, bbox_to_anchor=(1.05,1.0),borderaxespad = 0.)"
   ]
  },
  {
   "cell_type": "markdown",
   "metadata": {},
   "source": [
    "## Question 3"
   ]
  },
  {
   "cell_type": "code",
   "execution_count": 352,
   "metadata": {},
   "outputs": [
    {
     "name": "stdout",
     "output_type": "stream",
     "text": [
      "Epoch: 0\tTrain Loss: 0.339930\tTest Loss: 0.322019\tAccuracy: 85.787212%\n",
      "Epoch: 10\tTrain Loss: 0.313100\tTest Loss: 0.314385\tAccuracy: 86.585462%\n",
      "Epoch: 20\tTrain Loss: 0.312634\tTest Loss: 0.314126\tAccuracy: 86.557868%\n",
      "Epoch: 30\tTrain Loss: 0.312348\tTest Loss: 0.314618\tAccuracy: 86.565752%\n",
      "Epoch: 40\tTrain Loss: 0.312154\tTest Loss: 0.314202\tAccuracy: 86.587433%\n",
      "Epoch: 50\tTrain Loss: 0.312032\tTest Loss: 0.314062\tAccuracy: 86.557868%\n",
      "Epoch: 60\tTrain Loss: 0.311899\tTest Loss: 0.313964\tAccuracy: 86.599259%\n",
      "Epoch: 70\tTrain Loss: 0.311863\tTest Loss: 0.313728\tAccuracy: 86.583491%\n",
      "Epoch: 80\tTrain Loss: 0.311761\tTest Loss: 0.313629\tAccuracy: 86.628824%\n",
      "Epoch: 90\tTrain Loss: 0.311739\tTest Loss: 0.314858\tAccuracy: 86.553926%\n",
      "Epoch: 100\tTrain Loss: 0.311679\tTest Loss: 0.314083\tAccuracy: 86.512535%\n"
     ]
    }
   ],
   "source": [
    "n_feature = 21, \n",
    "n_hidden = 10, \n",
    "n_output = 2, \n",
    "\n",
    "deep_model = DeepFCLayer(21,10,2)\n",
    "deep_model.to(device)\n",
    "\n",
    "# momentum helps us not trapped in local maxima\n",
    "optimizer = optim.SGD(deep_model.parameters(), lr=0.01, momentum=0.5)\n",
    "\n",
    "## for each epoch\n",
    "for epoch in range(0, 101):\n",
    "    train_loss = train(deep_model, train_loader, optimizer)\n",
    "    test_loss, accuracy = test(deep_model, test_loader, optimizer)\n",
    "\n",
    "    # visualize the loss vs. each 10 epochs \n",
    "    if epoch % 10 == 0:\n",
    "        print('Epoch: {}\\tTrain Loss: {:.6f}\\tTest Loss: {:.6f}\\tAccuracy: {:.6f}%'.format(\n",
    "        epoch, train_loss, test_loss, accuracy))"
   ]
  },
  {
   "cell_type": "code",
   "execution_count": 355,
   "metadata": {},
   "outputs": [
    {
     "name": "stdout",
     "output_type": "stream",
     "text": [
      "deep network auc:  0.8324155155451683\n"
     ]
    }
   ],
   "source": [
    "# compute the yProb for this model\n",
    "yProb = predict_proba(deep_model, xTest)[:, 1]\n",
    "deep_auc = metrics.roc_auc_score(yTest, yProb)\n",
    "print(\"deep network auc: \", deep_auc)"
   ]
  },
  {
   "cell_type": "code",
   "execution_count": 356,
   "metadata": {},
   "outputs": [
    {
     "data": {
      "image/png": "[encoded data removed]",
      "text/plain": [
       "<Figure size 432x288 with 1 Axes>"
      ]
     },
     "metadata": {
      "needs_background": "light"
     },
     "output_type": "display_data"
    }
   ],
   "source": [
    "fpr, tpr, thresholds = metrics.roc_curve(yTest, yProb)\n",
    "deep_auc = metrics.auc(fpr, tpr)\n",
    "plt.plot(fpr, tpr, 'k--', label='ROC (area = {0:.4f})'.format(deep_auc), lw=1)\n",
    "plt.xlabel('False Positive Rate')\n",
    "plt.ylabel('True Positive Rate')\n",
    "plt.title('Deep Network ROC Curve')\n",
    "plt.legend(loc=\"lower right\")\n",
    "plt.show()"
   ]
  },
  {
   "cell_type": "markdown",
   "metadata": {},
   "source": [
    "## classes of Question 4 - 5"
   ]
  },
  {
   "cell_type": "code",
   "execution_count": 243,
   "metadata": {},
   "outputs": [],
   "source": [
    "# nn package also has different loss functions.\n",
    "# we use MSE for a regression task\n",
    "\n",
    "# neural network for question 4\n",
    "class FCLayer(nn.Module):\n",
    "    def __init__(self, n_feature, n_hidden, n_output, function=\"reLU\"):\n",
    "        super(FCLayer, self).__init__()\n",
    "        self.n_feature = n_feature\n",
    "        self.network = nn.Sequential(\n",
    "            nn.Linear(n_feature, n_hidden), \n",
    "            nn.Sigmoid() if function==\"sigmoid\" else nn.ReLU(), \n",
    "            nn.Linear(n_hidden, n_output), \n",
    "        )\n",
    "        \n",
    "    def forward(self, x):\n",
    "        # input layer\n",
    "        x = x.view(-1, self.n_feature)\n",
    "        return self.network(x)\n",
    "\n",
    "# neural network for question 5\n",
    "# a deep network with more depth and less width of nueral network\n",
    "class MyLayer(nn.Module):\n",
    "    def __init__(self, n_feature, n_hidden, n_output):\n",
    "        super(MyLayer, self).__init__()\n",
    "        self.n_feature = n_feature\n",
    "        # 5 layers network\n",
    "        self.network = nn.Sequential(\n",
    "            nn.Linear(n_feature, n_hidden), \n",
    "            nn.ReLU(), \n",
    "            nn.Linear(n_hidden, n_hidden), \n",
    "            nn.ReLU(),\n",
    "            nn.Linear(n_hidden, n_hidden), \n",
    "            nn.ReLU(),\n",
    "            nn.Linear(n_hidden, n_hidden), \n",
    "            nn.ReLU(),\n",
    "            nn.Linear(n_hidden, n_hidden), \n",
    "            nn.ReLU(),\n",
    "            nn.Linear(n_hidden, n_output), \n",
    "        )\n",
    "        \n",
    "    def forward(self, x):\n",
    "        # input layer\n",
    "        x = x.view(-1, self.n_feature)\n",
    "        return self.network(x)\n",
    "    \n"
   ]
  },
  {
   "cell_type": "markdown",
   "metadata": {},
   "source": [
    "## data processing for question 4 and 5"
   ]
  },
  {
   "cell_type": "code",
   "execution_count": 234,
   "metadata": {},
   "outputs": [
    {
     "name": "stdout",
     "output_type": "stream",
     "text": [
      "torch.Size([202944, 21]) torch.Size([202944, 1]) torch.Size([50736, 21]) torch.Size([50736, 1])\n"
     ]
    }
   ],
   "source": [
    "# extract our y out BMI: \n",
    "y = df[\"BMI\"]\n",
    "# get all other predictors\n",
    "X = df.loc[:, df.columns != 'BMI']\n",
    "\n",
    "# normalize them to have them in the same scale\n",
    "X = (X - np.mean(X, axis=0))/np.std(X, axis=0)\n",
    "\n",
    "# split our train-test set\n",
    "xTrain, xTest, yTrain, yTest = model_selection.train_test_split(X, y, test_size=0.2, random_state=0)\n",
    "xTrain = (xTrain.to_numpy())\n",
    "xTest = (xTest.to_numpy())\n",
    "yTrain = (yTrain.to_numpy().reshape(-1,1))\n",
    "yTest = (yTest.to_numpy().reshape(-1,1))\n",
    "xTrain, xTest, yTrain, yTest = torch.from_numpy(xTrain), torch.from_numpy(xTest),torch.from_numpy(yTrain),torch.from_numpy(yTest)\n",
    "\n",
    "print(xTrain.shape, yTrain.shape, xTest.shape, yTest.shape)\n",
    "# transfer train data to dataset\n",
    "train_dataset = torch.utils.data.TensorDataset(xTrain, yTrain)\n",
    "test_dataset = torch.utils.data.TensorDataset(xTest, yTest)\n",
    "\n",
    "# batch size helps us avoid noise gradient due to training one epoch on small data\n",
    "train_loader = torch.utils.data.DataLoader(\n",
    "    dataset = train_dataset,\n",
    "    batch_size=64, shuffle=True)\n",
    "\n",
    "test_loader = torch.utils.data.DataLoader(\n",
    "    dataset = test_dataset,\n",
    "    batch_size=64, shuffle=True)"
   ]
  },
  {
   "cell_type": "markdown",
   "metadata": {},
   "source": [
    "## train and test process for question 4"
   ]
  },
  {
   "cell_type": "code",
   "execution_count": 236,
   "metadata": {},
   "outputs": [
    {
     "name": "stdout",
     "output_type": "stream",
     "text": [
      "sigmoid [EPOCH]: 999, [LOSS]: 37.362583\n",
      "sigmoid [EPOCH]: 999, [RMSE]: 6.112332\n"
     ]
    }
   ],
   "source": [
    "n_feature = 21\n",
    "n_hidden = 100\n",
    "n_output = 1\n",
    "\n",
    "# without using any batch\n",
    "\n",
    "# calculate rmse demend on relu activation function\n",
    "model_relu = FCLayer(n_feature, n_hidden, n_output)\n",
    "# while we could simply use the stochastic gradient descent optimized, we will use the ADAM optimizer\n",
    "# because of its robustness and speed\n",
    "# optimizer = torch.optim.Adam(model.parameters(), lr=0.1) # built-in L2\n",
    "optimizer = optim.SGD(model_relu.parameters(), lr=0.01, momentum=0.5)\n",
    "# Training loop\n",
    "for t in range(1000):\n",
    "    # Feed forward to get the logits\n",
    "    xTrain = xTrain.float()\n",
    "    yTrain = yTrain.float()\n",
    "    yPred = model_relu(xTrain)\n",
    "\n",
    "    # Compute the loss and accuracy\n",
    "    loss = F.mse_loss(yPred, yTrain)\n",
    "    \n",
    "    print(f\"relu [EPOCH]: {t}, [LOSS]: {loss.item():.6f}\")\n",
    "    xTest = xTest.float()\n",
    "    yPred = model_relu(xTest).detach().numpy()\n",
    "    rmse = metrics.mean_squared_error(yTest, yPred, squared=False)\n",
    "    print(f\"relu [EPOCH]: {t}, [RMSE]: {rmse:.6f}\")\n",
    "    display.clear_output(wait=True)\n",
    "    \n",
    "    # zero the gradients before running\n",
    "    # the backward pass.\n",
    "    optimizer.zero_grad()\n",
    "\n",
    "    # Backward pass to compute the gradient\n",
    "    # of loss w.r.t our learnable params. \n",
    "    loss.backward()\n",
    "\n",
    "    # Update params\n",
    "    optimizer.step()\n",
    "\n",
    "xTest = xTest.float()\n",
    "yPred = model_relu(xTest).detach().numpy()\n",
    "rmse_relu = metrics.mean_squared_error(yTest, yPred, squared=False)\n",
    "\n",
    "# calcualte rmse based on sigmoid activation function\n",
    "model_sigmoid = FCLayer(n_feature, n_hidden, n_output, function=\"sigmoid\")\n",
    "# while we could simply use the stochastic gradient descent optimized, we will use the ADAM optimizer\n",
    "# because of its robustness and speed\n",
    "# optimizer = torch.optim.Adam(model.parameters(), lr=0.1) # built-in L2\n",
    "optimizer = optim.SGD(model_sigmoid.parameters(), lr=0.01, momentum=0.5)\n",
    "# Training loop\n",
    "for t in range(1000):\n",
    "    # Feed forward to get the logits\n",
    "    xTrain = xTrain.float()\n",
    "    yTrain = yTrain.float()\n",
    "    yPred = model_sigmoid(xTrain)\n",
    "\n",
    "    # Compute the loss and accuracy\n",
    "    loss = F.mse_loss(yPred, yTrain)\n",
    "    \n",
    "    print(f\"sigmoid [EPOCH]: {t}, [LOSS]: {loss.item():.6f}\")\n",
    "    xTest = xTest.float()\n",
    "    yPred = model_sigmoid(xTest).detach().numpy()\n",
    "    rmse = metrics.mean_squared_error(yTest, yPred, squared=False)\n",
    "    print(f\"sigmoid [EPOCH]: {t}, [RMSE]: {rmse:.6f}\")\n",
    "    display.clear_output(wait=True)\n",
    "    \n",
    "    # zero the gradients before running\n",
    "    # the backward pass.\n",
    "    optimizer.zero_grad()\n",
    "\n",
    "    # Backward pass to compute the gradient\n",
    "    # of loss w.r.t our learnable params. \n",
    "    loss.backward()\n",
    "\n",
    "    # Update params\n",
    "    optimizer.step()\n",
    "    \n",
    "xTest = xTest.float()\n",
    "yPred = model_sigmoid(xTest).detach().numpy()\n",
    "rmse_sigmoid = metrics.mean_squared_error(yTest, yPred, squared=False)\n"
   ]
  },
  {
   "cell_type": "code",
   "execution_count": 239,
   "metadata": {},
   "outputs": [
    {
     "name": "stdout",
     "output_type": "stream",
     "text": [
      "rmse_relu: 6.063618253197626\n",
      "rmse_sigmoid: 6.112287982301386\n"
     ]
    }
   ],
   "source": [
    "print(\"rmse_relu:\", rmse_relu)\n",
    "print(\"rmse_sigmoid:\", rmse_sigmoid)"
   ]
  },
  {
   "cell_type": "code",
   "execution_count": 362,
   "metadata": {},
   "outputs": [
    {
     "data": {
      "text/plain": [
       "<matplotlib.legend.Legend at 0x7f9140650850>"
      ]
     },
     "execution_count": 362,
     "metadata": {},
     "output_type": "execute_result"
    },
    {
     "data": {
      "image/png": "[encoded data removed]",
      "text/plain": [
       "<Figure size 432x288 with 1 Axes>"
      ]
     },
     "metadata": {
      "needs_background": "light"
     },
     "output_type": "display_data"
    }
   ],
   "source": [
    "xlabel = ['activation function']\n",
    "plt.bar([0.8], rmse_relu, width = 0.4, label=\"relu\")\n",
    "plt.bar([1.2], rmse_sigmoid, width = 0.4, alpha = 0.5, label=\"sigmoid\")\n",
    "plt.xticks([1], xlabel)\n",
    "plt.ylim(6, 6.2)\n",
    "plt.title('rmse-activation function of nueral network')\n",
    "plt.ylabel('rmse')\n",
    "plt.legend()"
   ]
  },
  {
   "cell_type": "markdown",
   "metadata": {},
   "source": [
    "## train and test for question 5"
   ]
  },
  {
   "cell_type": "code",
   "execution_count": 260,
   "metadata": {},
   "outputs": [
    {
     "name": "stdout",
     "output_type": "stream",
     "text": [
      "[EPOCH]: 999, [LOSS]: 36.183586\n",
      "[EPOCH]: 999, [RMSE]: 6.033327\n"
     ]
    }
   ],
   "source": [
    "n_feature = 21\n",
    "n_hidden = 10\n",
    "n_output = 1\n",
    "\n",
    "my_regression_model = MyLayer(n_feature,n_hidden,n_output)\n",
    "\n",
    "# while we could simply use the stochastic gradient descent optimized, we will use the ADAM optimizer\n",
    "# because of its robustness and speed\n",
    "optimizer = torch.optim.Adam(my_regression_model.parameters(), lr=0.1, weight_decay=1e-5) # built-in L2\n",
    "# optimizer = optim.SGD(model.parameters(), lr=0.01, momentum=0.5)\n",
    "\n",
    "# Training loop\n",
    "for t in range(1000):\n",
    "\n",
    "    # Feed forward to get the logits\n",
    "    xTrain = xTrain.float()\n",
    "    yTrain = yTrain.float()\n",
    "    yPred = my_regression_model(xTrain)\n",
    "\n",
    "    # Compute the loss and accuracy\n",
    "    loss = F.mse_loss(yPred, yTrain)\n",
    "    \n",
    "    print(f\"[EPOCH]: {t}, [LOSS]: {loss.item():.6f}\")\n",
    "    xTest = xTest.float()\n",
    "    yPred = my_regression_model(xTest).detach().numpy()\n",
    "    rmse = metrics.mean_squared_error(yTest, yPred, squared=False)\n",
    "    print(f\"[EPOCH]: {t}, [RMSE]: {rmse:.6f}\")\n",
    "    display.clear_output(wait=True)\n",
    "    \n",
    "    # zero the gradients before running\n",
    "    # the backward pass.\n",
    "    optimizer.zero_grad()\n",
    "\n",
    "    # Backward pass to compute the gradient\n",
    "    # of loss w.r.t our learnable params. \n",
    "    loss.backward()\n",
    "\n",
    "    # Update params\n",
    "    optimizer.step()\n",
    "    \n",
    "xTest = xTest.float()\n",
    "yPred = my_regression_model(xTest).detach().numpy()\n",
    "rmse = metrics.mean_squared_error(yTest, yPred, squared=False)"
   ]
  },
  {
   "cell_type": "code",
   "execution_count": 261,
   "metadata": {},
   "outputs": [
    {
     "name": "stdout",
     "output_type": "stream",
     "text": [
      "my nueral network: 6.0332834341974975\n"
     ]
    }
   ],
   "source": [
    "print(\"my nueral network:\", rmse)"
   ]
  },
  {
   "cell_type": "code",
   "execution_count": 365,
   "metadata": {},
   "outputs": [
    {
     "data": {
      "text/plain": [
       "<matplotlib.legend.Legend at 0x7f90e9b4d1f0>"
      ]
     },
     "execution_count": 365,
     "metadata": {},
     "output_type": "execute_result"
    },
    {
     "data": {
      "image/png": "[encoded data removed]",
      "text/plain": [
       "<Figure size 432x288 with 1 Axes>"
      ]
     },
     "metadata": {
      "needs_background": "light"
     },
     "output_type": "display_data"
    }
   ],
   "source": [
    "plt.bar([0.4], rmse, width = 0.4, label=\"my network\")\n",
    "plt.bar([0.8], rmse_relu, width = 0.4, label=\"relu\")\n",
    "plt.bar([1.2], rmse_sigmoid, width = 0.4, alpha = 0.5, label=\"sigmoid\")\n",
    "plt.xticks([])\n",
    "plt.ylim(6, 6.2)\n",
    "plt.title('rmse of differnet nueral networks')\n",
    "plt.ylabel('rmse')\n",
    "plt.legend()"
   ]
  },
  {
   "cell_type": "code",
   "execution_count": null,
   "metadata": {},
   "outputs": [],
   "source": [
    "## try with a different optimizer, a different learning rate, \n",
    "## a regularization term weight_decay, a deeper but narrower network\n",
    "## maybe different batch size"
   ]
  },
  {
   "cell_type": "markdown",
   "metadata": {},
   "source": [
    "## extra credit"
   ]
  },
  {
   "cell_type": "markdown",
   "metadata": {},
   "source": [
    "## classfication: take model from 3 as an example"
   ]
  },
  {
   "cell_type": "code",
   "execution_count": 271,
   "metadata": {},
   "outputs": [],
   "source": [
    "# models from 3, in the diabetes classifcation model\n",
    "classify_model = models_relu[0]\n",
    "\n",
    "df1 = df.drop(columns=[\"Diabetes\"])\n",
    "df1_cols = df1.columns.to_list()\n",
    "\n",
    "auc_dict = {}\n",
    "for name in df1_cols: \n",
    "    auc_dict[name] = -1\n",
    "\n",
    "for name in auc_dict: \n",
    "    # randomly shuffle the current col\n",
    "    df1 = df.copy()\n",
    "    df1[name] = np.random.permutation(df[name].values)\n",
    "    \n",
    "    # extract diabetes\n",
    "    y_i = df1.iloc[:, 0]\n",
    "    \n",
    "    # all other variables\n",
    "    X_i = df1.iloc[:, 1:]\n",
    "\n",
    "    # normalize X_i to have them in the same scale\n",
    "    X_i = (X_i - np.mean(X_i, axis=0))/np.std(X_i, axis=0)\n",
    "    \n",
    "    # note that here we use same random_state for comparing auc\n",
    "    xTrn, xTst, yTrn, yTst = model_selection.train_test_split(X_i, y_i, test_size=0.2, random_state=0)\n",
    "    xTst = (xTst.to_numpy())\n",
    "    yTst = (yTst.to_numpy())\n",
    "    xTst, yTst = torch.from_numpy(xTst), torch.from_numpy(yTst)\n",
    "    xTst = xTst.float()\n",
    "    \n",
    "    pred = predict_proba(classify_model, xTst)[:,1]\n",
    "    auc_dict[name] = metrics.roc_auc_score(yTst, pred)"
   ]
  },
  {
   "cell_type": "code",
   "execution_count": 378,
   "metadata": {},
   "outputs": [
    {
     "name": "stdout",
     "output_type": "stream",
     "text": [
      "auc of full predictors: 0.8330\n",
      "HighBP: 0.8154\n",
      "HighChol: 0.8206\n",
      "BMI: 0.7954\n",
      "Smoker: 0.8327\n",
      "Stroke: 0.8323\n",
      "Myocardial: 0.8299\n",
      "PhysActivity: 0.8327\n",
      "Fruit: 0.8326\n",
      "Vegetables: 0.8326\n",
      "HeavyDrinker: 0.8296\n",
      "HasHealthcare: 0.8326\n",
      "NotAbleToAffordDoctor: 0.8326\n",
      "GeneralHealth: 0.7746\n",
      "MentalHealth: 0.8325\n",
      "PhysicalHealth: 0.8323\n",
      "HardToClimbStairs: 0.8319\n",
      "BiologicalSex: 0.8294\n",
      "AgeBracket: 0.8007\n",
      "EducationBracket: 0.8325\n",
      "IncomeBracket: 0.8297\n",
      "Zodiac: 0.8330\n"
     ]
    }
   ],
   "source": [
    "# compare the original auc with the new auc\n",
    "print('auc of full predictors: {:.4f}'.format(models_relu_auc[0]))\n",
    "for name in auc_dict: \n",
    "    print('{}: {:.4f}'.format(name, auc_dict[name]))"
   ]
  },
  {
   "cell_type": "code",
   "execution_count": 374,
   "metadata": {},
   "outputs": [
    {
     "data": {
      "text/plain": [
       "<matplotlib.legend.Legend at 0x7f91324d4220>"
      ]
     },
     "execution_count": 374,
     "metadata": {},
     "output_type": "execute_result"
    },
    {
     "data": {
      "image/png": "[encoded data removed]",
      "text/plain": [
       "<Figure size 432x288 with 1 Axes>"
      ]
     },
     "metadata": {
      "needs_background": "light"
     },
     "output_type": "display_data"
    }
   ],
   "source": [
    "# draw the auc of shuffling each feature near the original auc\n",
    "plt.bar(list(auc_dict.keys()), list(auc_dict.values()))\n",
    "plt.title('auc given by random shuffling each feature')\n",
    "plt.ylim((0.83, 0.835))\n",
    "plt.xticks(rotation=90)\n",
    "plt.axhline(y=models_relu_auc[0],linewidth=1, color='r', label='auc of full predictors')\n",
    "plt.legend()"
   ]
  },
  {
   "cell_type": "markdown",
   "metadata": {},
   "source": [
    "## regression: take model from 5 as an example"
   ]
  },
  {
   "cell_type": "code",
   "execution_count": 380,
   "metadata": {},
   "outputs": [],
   "source": [
    "# for the regression problem, let's take the model from question 5\n",
    "\n",
    "# models from 5, BMI classifcation model\n",
    "regression_model = my_regression_model\n",
    "\n",
    "df1 = df.drop(columns=[\"BMI\"])\n",
    "df1_cols = df1.columns.to_list()\n",
    "\n",
    "rmse_dict = {}\n",
    "for name in df1_cols: \n",
    "    rmse_dict[name] = -1\n",
    "\n",
    "for name in rmse_dict: \n",
    "    # randomly shuffle the current col\n",
    "    df1 = df.copy()\n",
    "    df1[name] = np.random.permutation(df[name].values)\n",
    "    \n",
    "    # extract diabetes\n",
    "    y_i = df1[\"BMI\"]\n",
    "    \n",
    "    # all other variables\n",
    "    X_i = df1.loc[:, df1.columns != 'BMI']\n",
    "\n",
    "    # normalize X_i to have them in the same scale\n",
    "    X_i = (X_i - np.mean(X_i, axis=0))/np.std(X_i, axis=0)\n",
    "    \n",
    "    # note that here we use same random_state for comparing auc\n",
    "    xTrn, xTst, yTrn, yTst = model_selection.train_test_split(X_i, y_i, test_size=0.2, random_state=0)\n",
    "    xTst = (xTst.to_numpy())\n",
    "    yTst = (yTst.to_numpy())\n",
    "    xTst, yTst = torch.from_numpy(xTst), torch.from_numpy(yTst)\n",
    "    xTst = xTst.float()\n",
    "    \n",
    "    pred = my_regression_model(xTst).detach().numpy()\n",
    "    rmse_dict[name] = metrics.mean_squared_error(yTst, pred, squared=False)"
   ]
  },
  {
   "cell_type": "code",
   "execution_count": 382,
   "metadata": {},
   "outputs": [
    {
     "name": "stdout",
     "output_type": "stream",
     "text": [
      "rmse of full predictors: 6.033\n",
      "Diabetes: 6.172\n",
      "HighBP: 6.225\n",
      "HighChol: 6.041\n",
      "Smoker: 6.054\n",
      "Stroke: 6.041\n",
      "Myocardial: 6.035\n",
      "PhysActivity: 6.071\n",
      "Fruit: 6.042\n",
      "Vegetables: 6.035\n",
      "HeavyDrinker: 6.045\n",
      "HasHealthcare: 6.034\n",
      "NotAbleToAffordDoctor: 6.034\n",
      "GeneralHealth: 6.180\n",
      "MentalHealth: 6.035\n",
      "PhysicalHealth: 6.037\n",
      "HardToClimbStairs: 6.176\n",
      "BiologicalSex: 6.082\n",
      "AgeBracket: 6.433\n",
      "EducationBracket: 6.048\n",
      "IncomeBracket: 6.049\n",
      "Zodiac: 6.033\n"
     ]
    }
   ],
   "source": [
    "# compare the original auc with the new auc\n",
    "print('rmse of full predictors: {:.3f}'.format(rmse))\n",
    "\n",
    "for name in rmse_dict: \n",
    "    print('{}: {:.3f}'.format(name, rmse_dict[name]))"
   ]
  },
  {
   "cell_type": "code",
   "execution_count": 384,
   "metadata": {},
   "outputs": [
    {
     "data": {
      "text/plain": [
       "<matplotlib.legend.Legend at 0x7f90e9fe3550>"
      ]
     },
     "execution_count": 384,
     "metadata": {},
     "output_type": "execute_result"
    },
    {
     "data": {
      "image/png": "[encoded data removed]",
      "text/plain": [
       "<Figure size 432x288 with 1 Axes>"
      ]
     },
     "metadata": {
      "needs_background": "light"
     },
     "output_type": "display_data"
    }
   ],
   "source": [
    "# draw the rmse of shuffling each feature near the original rmse\n",
    "plt.bar(list(rmse_dict.keys()), list(rmse_dict.values()))\n",
    "plt.title('rmse given by random shuffling each feature')\n",
    "plt.ylim((6.03, 6.04))\n",
    "plt.xticks(rotation=90)\n",
    "plt.axhline(y=rmse,linewidth=1, color='r',label='rmse of full predictors')\n",
    "plt.legend()"
   ]
  },
  {
   "cell_type": "code",
   "execution_count": null,
   "metadata": {},
   "outputs": [],
   "source": []
  }
 ],
 "metadata": {
  "kernelspec": {
   "display_name": "Python 3",
   "language": "python",
   "name": "python3"
  },
  "language_info": {
   "codemirror_mode": {
    "name": "ipython",
    "version": 3
   },
   "file_extension": ".py",
   "mimetype": "text/x-python",
   "name": "python",
   "nbconvert_exporter": "python",
   "pygments_lexer": "ipython3",
   "version": "3.8.5"
  }
 },
 "nbformat": 4,
 "nbformat_minor": 4
}
